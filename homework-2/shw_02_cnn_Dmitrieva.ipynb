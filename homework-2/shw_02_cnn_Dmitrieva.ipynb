{
  "cells": [
    {
      "cell_type": "markdown",
      "metadata": {
        "id": "w35Q6hOIy4sk"
      },
      "source": [
        "# Глубинное обучение 1 / Введение в глубинное обучение, ФКН ВШЭ\n",
        "\n",
        "## Домашнее задание 2: сверточный классификатор.\n",
        "\n",
        "### Общая информация\n",
        "\n",
        "Оценка после штрафа после мягкого дедлайна вычисляется по формуле $M_{\\text{penalty}} = M_{\\text{full}} \\cdot 0.85^{t/1440}$, где $M_{\\text{full}}$ — полная оценка за работу без учета штрафа, а $t$ — время в минутах, прошедшее после мягкого дедлайна (округление до двух цифр после запятой). Таким образом, спустя первые сутки после мягкого дедлайна вы не можете получить оценку выше 8.5, а если сдать через четыре дня после мягкого дедлайна, то ваш максимум — 5.22 балла.\n",
        "\n",
        "### Оценивание и штрафы\n",
        "\n",
        "Максимально допустимая оценка за работу — 10 баллов. Сдавать задание после указанного срока сдачи нельзя.\n",
        "\n",
        "Задание выполняется самостоятельно. «Похожие» решения считаются плагиатом и все задействованные студенты (в том числе те, у кого списали) не могут получить за него больше 0 баллов. Если вы нашли решение какого-то из заданий (или его часть) в открытом источнике, необходимо указать ссылку на этот источник в отдельном блоке в конце вашей работы (скорее всего вы будете не единственным, кто это нашел, поэтому чтобы исключить подозрение в плагиате, необходима ссылка на источник).\n",
        "\n",
        "Неэффективная реализация кода может негативно отразиться на оценке. Также оценка может быть снижена за плохо читаемый код и плохо оформленные графики. Все ответы должны сопровождаться кодом или комментариями о том, как они были получены.\n",
        "\n",
        "### О задании\n",
        "\n",
        "В этом задании вам предстоит познакомиться со сверточными сетями и их обучением для классификации изображений с использованием библиотеки PyTorch.\n"
      ]
    },
    {
      "cell_type": "code",
      "execution_count": null,
      "metadata": {
        "id": "SaACifdX2QOo"
      },
      "outputs": [],
      "source": [
        "import torch\n",
        "import torch.nn as nn\n",
        "import torch.nn.functional as F\n",
        "import torch.optim as optim\n",
        "import torchvision\n",
        "import torchvision.transforms as transforms\n",
        "\n",
        "import matplotlib.pyplot as plt\n",
        "import seaborn as sns\n",
        "import numpy as np\n",
        "\n",
        "from sklearn.model_selection import train_test_split"
      ]
    },
    {
      "cell_type": "markdown",
      "metadata": {
        "id": "TIXaUYM-0JFl"
      },
      "source": [
        "## 0. Загрузка данных\n",
        "\n",
        "Работать мы будем с набором данных [CIFAR10](https://www.cs.toronto.edu/~kriz/cifar.html). CIFAR10 представляет собой набор изображений 32х32 пикселя, разделенных на 10 классов.\n",
        "\n",
        "![title](https://pytorch.org/tutorials/_images/cifar10.png)\n",
        "\n",
        "\n"
      ]
    },
    {
      "cell_type": "markdown",
      "metadata": {
        "id": "g-0EEjl_10vB"
      },
      "source": [
        "Набор данных уже определен в <code>torchvision.datasets</code>, так что возьмем его оттуда. \n",
        "\n"
      ]
    },
    {
      "cell_type": "code",
      "execution_count": null,
      "metadata": {
        "id": "Cbwe92dT3aPZ"
      },
      "outputs": [],
      "source": [
        "def get_cifar10_data(batch_size, transform_train):\n",
        "    torch.manual_seed(0)\n",
        "    np.random.seed(0)\n",
        "\n",
        "    transform_test = transforms.Compose(\n",
        "        [transforms.ToTensor(),\n",
        "         # Переводим цвета пикселей в отрезок [-1, 1]\n",
        "         transforms.Normalize((0.5, 0.5, 0.5), (0.5, 0.5, 0.5))]\n",
        "    )\n",
        "    \n",
        "    # Загружаем данные\n",
        "    trainvalset = torchvision.datasets.CIFAR10(root='./data', train=True,\n",
        "                                               download=True, transform=transform_train)\n",
        "    testset = torchvision.datasets.CIFAR10(root='./data', train=False,\n",
        "                                           download=True, transform=transform_test)\n",
        "    \n",
        "    \n",
        "    # В датасете определено разбиение только на train и test,\n",
        "    # так что валидацию дополнительно выделяем из обучающей выборки\n",
        "    train_idx, valid_idx = train_test_split(np.arange(len(trainvalset)), test_size=0.3, \n",
        "                                            shuffle=True, random_state=0)\n",
        "    trainset = torch.utils.data.Subset(trainvalset, train_idx)\n",
        "    valset = torch.utils.data.Subset(trainvalset, valid_idx)\n",
        "\n",
        "    train_loader = torch.utils.data.DataLoader(trainset, batch_size=batch_size,\n",
        "                                               shuffle=True, num_workers=2)\n",
        "    val_loader = torch.utils.data.DataLoader(valset, batch_size=batch_size,\n",
        "                                             shuffle=False, num_workers=2)\n",
        "    test_loader = torch.utils.data.DataLoader(testset, batch_size=batch_size,\n",
        "                                              shuffle=False, num_workers=2)\n",
        "    \n",
        "    return train_loader, val_loader, test_loader\n",
        "    "
      ]
    },
    {
      "cell_type": "code",
      "execution_count": null,
      "metadata": {
        "colab": {
          "base_uri": "https://localhost:8080/",
          "height": 101,
          "referenced_widgets": [
            "742c6ec533d54c2ca6142bb20a4e9e63",
            "62ac36fb54594058a4d8dd355b2874d5",
            "b8b764861c794843953f64b173afde71",
            "7817132d6ad949d7a3ecfa99431a0cbe",
            "d11e0158d45c4c93889d9fbfe0a7e195",
            "03d47e5e481e47028949fa93e953f6b1",
            "c0eee9ad67784e0ab6463779d6290cef",
            "62f2d10646b64a9a9197f6ee4ba38c4f",
            "71191c9022ae44c2a72b0bd3072a00d1",
            "b718ff19dbb1401cab51da5df4f0dcd3",
            "5d5f7f1dc84a4c76918532c9fcbc68b5"
          ]
        },
        "id": "2G2rLnN5y6Jj",
        "outputId": "a156bfc7-5ba5-4e3a-d5d3-6ae1ee1cf3ee"
      },
      "outputs": [
        {
          "output_type": "stream",
          "name": "stdout",
          "text": [
            "Downloading https://www.cs.toronto.edu/~kriz/cifar-10-python.tar.gz to ./data/cifar-10-python.tar.gz\n"
          ]
        },
        {
          "output_type": "display_data",
          "data": {
            "text/plain": [
              "  0%|          | 0/170498071 [00:00<?, ?it/s]"
            ],
            "application/vnd.jupyter.widget-view+json": {
              "version_major": 2,
              "version_minor": 0,
              "model_id": "742c6ec533d54c2ca6142bb20a4e9e63"
            }
          },
          "metadata": {}
        },
        {
          "output_type": "stream",
          "name": "stdout",
          "text": [
            "Extracting ./data/cifar-10-python.tar.gz to ./data\n",
            "Files already downloaded and verified\n"
          ]
        }
      ],
      "source": [
        "transform = transforms.Compose(\n",
        "        [transforms.ToTensor(),\n",
        "         transforms.Normalize((0.5, 0.5, 0.5), (0.5, 0.5, 0.5))]\n",
        ")\n",
        "\n",
        "train_loader, val_loader, test_loader = get_cifar10_data(batch_size=64, \n",
        "                                                         transform_train=transform)"
      ]
    },
    {
      "cell_type": "markdown",
      "metadata": {
        "id": "-82HWgXs77W1"
      },
      "source": [
        "Посмотрим на изображения:"
      ]
    },
    {
      "cell_type": "code",
      "execution_count": null,
      "metadata": {
        "colab": {
          "base_uri": "https://localhost:8080/",
          "height": 155
        },
        "id": "ACnwaC5iy6L2",
        "outputId": "90127aaa-746a-47cf-d9ef-e135995fca25"
      },
      "outputs": [
        {
          "output_type": "display_data",
          "data": {
            "text/plain": [
              "<Figure size 432x288 with 1 Axes>"
            ],
            "image/png": "[encoded data removed]"
          },
          "metadata": {
            "needs_background": "light"
          }
        },
        {
          "output_type": "stream",
          "name": "stdout",
          "text": [
            "ship frog horse horse\n"
          ]
        }
      ],
      "source": [
        "def imshow(img):\n",
        "    img = img / 2 + 0.5    \n",
        "    npimg = img.numpy()\n",
        "    plt.imshow(np.transpose(npimg, (1, 2, 0)))\n",
        "    plt.show()\n",
        "\n",
        "\n",
        "dataiter = iter(train_loader)\n",
        "images, labels = dataiter.next()\n",
        "\n",
        "imshow(torchvision.utils.make_grid(images[:4]))\n",
        "\n",
        "classes = ('plane', 'car', 'bird', 'cat',\n",
        "           'deer', 'dog', 'frog', 'horse', 'ship', 'truck')\n",
        "print(*[classes[labels[i]] for i in range(4)])"
      ]
    },
    {
      "cell_type": "markdown",
      "metadata": {
        "id": "KFDilng29YZ_"
      },
      "source": [
        "## 1. Задание сверточной сети (3 балла)"
      ]
    },
    {
      "cell_type": "markdown",
      "metadata": {
        "id": "OX7Ul8YbYdQR"
      },
      "source": [
        "Теперь нам нужно задать сверточную нейронную сеть, которую мы будем обучать классифицировать изображения.\n",
        "\n",
        "Используем сеть, основанную на одном блоке архитектуры ResNet.\n",
        "\n",
        "<img src=\"https://i.ibb.co/2hg962h/basic-block.png\" width=\"500\"/>\n",
        "\n",
        "__Указания:__\n",
        "\n",
        "- Все сверточные слои должны иметь 32 выходных канала, а также не должны изменять ширину и высоту изображения.\n",
        "- Выход блока сократите до размерности 32х4х4, применив average pooling.\n",
        "- Для получения итоговых логитов, распрямите выход пулинга в вектор из 512 элементов, а затем пропустите его через линейный слой."
      ]
    },
    {
      "cell_type": "markdown",
      "metadata": {
        "id": "sbyIylT9O9Dr"
      },
      "source": [
        "**Задание 1.1 (3 балла).**\n",
        "\n",
        "Определите архитектуру сети соответственно схеме и указаниям выше.\n",
        "\n",
        "Ключевые слова: <code>Conv2d</code>, <code>BatchNorm2d</code>, <code>AvgPool2d</code>."
      ]
    },
    {
      "cell_type": "code",
      "execution_count": null,
      "metadata": {
        "id": "s9ml1QGKy6N9"
      },
      "outputs": [],
      "source": [
        "n_classes = 10\n",
        "\n",
        "\n",
        "class BasicBlockNet(nn.Module):\n",
        "    def __init__(self):\n",
        "        super().__init__()\n",
        "\n",
        "        self.conv = nn.Conv2d(3, 32, 1)\n",
        "\n",
        "        self.encoder_1 = nn.Sequential( \n",
        "            nn.Conv2d(in_channels=3, out_channels=32,\n",
        "                      kernel_size=3, padding=1),\n",
        "            nn.BatchNorm2d(32),\n",
        "            nn.ReLU(),\n",
        "            nn.Conv2d(in_channels=32, out_channels=32,\n",
        "                      kernel_size=3, padding=1),\n",
        "            nn.BatchNorm2d(32)\n",
        "        )\n",
        "\n",
        "        self.encoder_2 = nn.Sequential(\n",
        "            nn.ReLU(),\n",
        "            nn.AvgPool2d(8),\n",
        "            nn.Flatten(1),\n",
        "            nn.Linear(512, n_classes)\n",
        "        )\n",
        "\n",
        "    def forward(self, x):\n",
        "\n",
        "        out = self.encoder_1(x)\n",
        "        out += self.conv(x)\n",
        "        out = self.encoder_2(out)\n",
        "\n",
        "        return out"
      ]
    },
    {
      "cell_type": "code",
      "execution_count": null,
      "metadata": {
        "colab": {
          "base_uri": "https://localhost:8080/"
        },
        "id": "FI4BQg7Ky6Pw",
        "outputId": "7ac51c4d-3a2b-4bf7-bb10-45a60212bd7d"
      },
      "outputs": [
        {
          "output_type": "execute_result",
          "data": {
            "text/plain": [
              "BasicBlockNet(\n",
              "  (conv): Conv2d(3, 32, kernel_size=(1, 1), stride=(1, 1))\n",
              "  (encoder_1): Sequential(\n",
              "    (0): Conv2d(3, 32, kernel_size=(3, 3), stride=(1, 1), padding=(1, 1))\n",
              "    (1): BatchNorm2d(32, eps=1e-05, momentum=0.1, affine=True, track_running_stats=True)\n",
              "    (2): ReLU()\n",
              "    (3): Conv2d(32, 32, kernel_size=(3, 3), stride=(1, 1), padding=(1, 1))\n",
              "    (4): BatchNorm2d(32, eps=1e-05, momentum=0.1, affine=True, track_running_stats=True)\n",
              "  )\n",
              "  (encoder_2): Sequential(\n",
              "    (0): ReLU()\n",
              "    (1): AvgPool2d(kernel_size=8, stride=8, padding=0)\n",
              "    (2): Flatten(start_dim=1, end_dim=-1)\n",
              "    (3): Linear(in_features=512, out_features=10, bias=True)\n",
              "  )\n",
              ")"
            ]
          },
          "metadata": {},
          "execution_count": 6
        }
      ],
      "source": [
        "net = BasicBlockNet()\n",
        "net"
      ]
    },
    {
      "cell_type": "markdown",
      "metadata": {
        "id": "igPoGZEub8d3"
      },
      "source": [
        "Проверим, что выход сети имеет корректную размерность:"
      ]
    },
    {
      "cell_type": "code",
      "execution_count": null,
      "metadata": {
        "id": "cCIzFUpJ_Agw"
      },
      "outputs": [],
      "source": [
        "assert net(torch.zeros((10, 3, 32, 32))).shape == (10, 10)"
      ]
    },
    {
      "cell_type": "markdown",
      "metadata": {
        "id": "08osX622cDGz"
      },
      "source": [
        "Чтобы проводить вычисления на GPU, в PyTorch необходимо руками перекладывать объекты, с которыми вы хотите проводить вычисления, на графический ускоритель. Это делается следующим образрм:"
      ]
    },
    {
      "cell_type": "code",
      "execution_count": null,
      "metadata": {
        "colab": {
          "base_uri": "https://localhost:8080/"
        },
        "id": "56hDOMCFcDZX",
        "outputId": "64363911-4366-4ff7-b296-f89e20a4e4ac"
      },
      "outputs": [
        {
          "output_type": "stream",
          "name": "stdout",
          "text": [
            "cuda:0\n"
          ]
        }
      ],
      "source": [
        "device = torch.device('cuda:0' if torch.cuda.is_available() else 'cpu')\n",
        "print(device)"
      ]
    },
    {
      "cell_type": "code",
      "execution_count": null,
      "metadata": {
        "id": "ohnDWbp0qbtC"
      },
      "outputs": [],
      "source": [
        "net = net.to(device)"
      ]
    },
    {
      "cell_type": "markdown",
      "metadata": {
        "id": "H_bOlTVUp5QF"
      },
      "source": [
        "Подключение GPU в google.colab:\n",
        "\n",
        "**Среда выполнения** -> **Сменить среду выполнения** -> **Аппаратный ускоритель** -> **GPU**"
      ]
    },
    {
      "cell_type": "markdown",
      "metadata": {
        "id": "AGi6XX_7_Bgg"
      },
      "source": [
        "## 2. Обучение и тестирование модели (3 балла)"
      ]
    },
    {
      "cell_type": "markdown",
      "metadata": {
        "id": "0agj_MQoO9Ds"
      },
      "source": [
        "**Задание 2.1 (2 балла).** Переходим к обучению модели. Заполните пропуски в функциях <code>test</code> и <code>train_epoch</code>. В качестве функции потерь будем использовать [кросс-энтропию](https://pytorch.org/docs/stable/generated/torch.nn.functional.cross_entropy.html), а в качестве метрики качества accuracy."
      ]
    },
    {
      "cell_type": "code",
      "execution_count": null,
      "metadata": {
        "id": "g8gsPPRIevDS"
      },
      "outputs": [],
      "source": [
        "def test(model, loader):\n",
        "    loss_log = []\n",
        "    acc_log = []\n",
        "    model.eval()\n",
        "    criterion = nn.CrossEntropyLoss()\n",
        "    \n",
        "    for data, target in loader:\n",
        "        data = data.to(device)\n",
        "        target = target.to(device)\n",
        "\n",
        "        with torch.no_grad():\n",
        "            logits = model(data)\n",
        "            loss = criterion(logits, target)\n",
        "\n",
        "        loss_log.append(loss.item() * data.shape[0])\n",
        "        \n",
        "        acc = (logits.argmax(dim=1) == target).sum()\n",
        "        acc_log.append(acc.item() / data.shape[0]) \n",
        "        \n",
        "    return np.mean(loss_log), np.mean(acc_log)\n",
        "\n",
        "def train_epoch(model, optimizer, train_loader):\n",
        "    loss_log = []\n",
        "    acc_log = []\n",
        "    model.train()\n",
        "    criterion = nn.CrossEntropyLoss()\n",
        "    \n",
        "    for data, target in train_loader:\n",
        "        data = data.to(device)\n",
        "        target = target.to(device)\n",
        "        \n",
        "        optimizer.zero_grad()\n",
        "        logits = model(data)\n",
        "\n",
        "        loss = criterion(logits, target)\n",
        "        loss.backward()\n",
        "        optimizer.step()\n",
        "        \n",
        "        loss_log.append(loss.item() * data.shape[0])\n",
        "        \n",
        "        acc = (logits.argmax(dim=1) == target).sum()\n",
        "        acc_log.append(acc.item() / data.shape[0]) \n",
        "\n",
        "    return loss_log, acc_log\n",
        "\n",
        "def train(model, optimizer, n_epochs, train_loader, val_loader, scheduler=None):\n",
        "    train_loss_log, train_acc_log, val_loss_log, val_acc_log = [], [], [], []\n",
        "\n",
        "    for epoch in range(n_epochs):\n",
        "        train_loss, train_acc = train_epoch(model, optimizer, train_loader)\n",
        "        val_loss, val_acc = test(model, val_loader)\n",
        "        \n",
        "        train_loss_log.extend(train_loss)\n",
        "        train_acc_log.extend(train_acc)\n",
        "        \n",
        "        val_loss_log.append(val_loss)\n",
        "        val_acc_log.append(val_acc)\n",
        "\n",
        "        print(f\"Epoch {epoch}\")\n",
        "        print(f\" train loss: {np.mean(train_loss)}, train acc: {np.mean(train_acc)}\")\n",
        "        print(f\" val loss: {val_loss}, val acc: {val_acc}\\n\")\n",
        "        \n",
        "        if scheduler is not None:\n",
        "            scheduler.step()\n",
        "\n",
        "    return train_loss_log, train_acc_log, val_loss_log, val_acc_log"
      ]
    },
    {
      "cell_type": "markdown",
      "metadata": {
        "id": "iSOqk_CAO9Dt"
      },
      "source": [
        "Запустим обучение модели. В качестве оптимизатора будем использовать стохастический градиентный спуск, который является де-факто стандартом в задачах компьютерного зрения (наравне с <code>Adam</code>).\n",
        "\n",
        "__Замечание:__ Для достижения наилучшего качества в нашем случае потребуется обучать модель несколько сотен эпох. Однако в целях экономии вашего времени и сил, во всех экспериментах мы ограничимся 20 эпохами."
      ]
    },
    {
      "cell_type": "code",
      "execution_count": null,
      "metadata": {
        "colab": {
          "base_uri": "https://localhost:8080/"
        },
        "id": "MKZBGhuAgMDu",
        "outputId": "6621069f-3f50-4043-901f-17aa0b828a5b",
        "scrolled": true
      },
      "outputs": [
        {
          "output_type": "stream",
          "name": "stdout",
          "text": [
            "Epoch 0\n",
            " train loss: 92.51993818997902, train acc: 0.48628884826325414\n",
            " val loss: 80.80930006554786, val acc: 0.5501329787234043\n",
            "\n",
            "Epoch 1\n",
            " train loss: 73.42177600965204, train acc: 0.6005770109689214\n",
            " val loss: 71.92152711990032, val acc: 0.609020390070922\n",
            "\n",
            "Epoch 2\n",
            " train loss: 66.07507627145463, train acc: 0.6410289892922434\n",
            " val loss: 66.88005109746405, val acc: 0.6365248226950354\n",
            "\n",
            "Epoch 3\n",
            " train loss: 62.79444132077847, train acc: 0.6596369809349699\n",
            " val loss: 68.09789402738531, val acc: 0.6287898936170213\n",
            "\n",
            "Epoch 4\n",
            " train loss: 60.24671078600003, train acc: 0.6744131953512668\n",
            " val loss: 61.48116400901308, val acc: 0.6654033687943263\n",
            "\n",
            "Epoch 5\n",
            " train loss: 58.5069590852727, train acc: 0.6840518085662053\n",
            " val loss: 60.80086920109201, val acc: 0.6767730496453902\n",
            "\n",
            "Epoch 6\n",
            " train loss: 57.033170376660834, train acc: 0.6898749673544006\n",
            " val loss: 67.65304657144749, val acc: 0.6441932624113476\n",
            "\n",
            "Epoch 7\n",
            " train loss: 55.874034475364894, train acc: 0.6985056476886915\n",
            " val loss: 61.19441615165548, val acc: 0.6728058510638298\n",
            "\n",
            "Epoch 8\n",
            " train loss: 54.829569918581946, train acc: 0.7034881822930269\n",
            " val loss: 58.97406927676911, val acc: 0.6818262411347519\n",
            "\n",
            "Epoch 9\n",
            " train loss: 53.74889507241397, train acc: 0.7092746147819273\n",
            " val loss: 57.56102959044436, val acc: 0.6858156028368795\n",
            "\n",
            "Epoch 10\n",
            " train loss: 52.671463215808764, train acc: 0.7139143705928441\n",
            " val loss: 58.01382125895074, val acc: 0.6934397163120567\n",
            "\n",
            "Epoch 11\n",
            " train loss: 52.27410612420147, train acc: 0.7178481653173152\n",
            " val loss: 59.09833935270918, val acc: 0.6825576241134752\n",
            "\n",
            "Epoch 12\n",
            " train loss: 51.39458225937169, train acc: 0.7203577957691303\n",
            " val loss: 56.05950650763005, val acc: 0.6997340425531915\n",
            "\n",
            "Epoch 13\n",
            " train loss: 50.59095994645978, train acc: 0.7242222185949334\n",
            " val loss: 61.57470863220539, val acc: 0.6777039007092199\n",
            "\n",
            "Epoch 14\n",
            " train loss: 50.04516877988575, train acc: 0.7269195612431444\n",
            " val loss: 56.42292627983905, val acc: 0.7023714539007093\n",
            "\n",
            "Epoch 15\n",
            " train loss: 49.35548253120408, train acc: 0.7323591342387047\n",
            " val loss: 54.78053886129501, val acc: 0.7066710992907801\n",
            "\n",
            "Epoch 16\n",
            " train loss: 49.098586887938445, train acc: 0.7345178244972578\n",
            " val loss: 58.160897386834975, val acc: 0.6953235815602837\n",
            "\n",
            "Epoch 17\n",
            " train loss: 48.15285498394173, train acc: 0.7376599634369287\n",
            " val loss: 55.82645011252545, val acc: 0.7029255319148936\n",
            "\n",
            "Epoch 18\n",
            " train loss: 48.15986325666717, train acc: 0.7378027879341865\n",
            " val loss: 55.59041749467241, val acc: 0.705186170212766\n",
            "\n",
            "Epoch 19\n",
            " train loss: 47.39642076039009, train acc: 0.7423527683468268\n",
            " val loss: 55.0564827675515, val acc: 0.7012411347517731\n",
            "\n"
          ]
        }
      ],
      "source": [
        "optimizer = optim.SGD(net.parameters(), lr=0.1, momentum=0.9)\n",
        "train_loss_log, train_acc_log, val_loss_log, val_acc_log = train(net, optimizer, 20, train_loader, val_loader)"
      ]
    },
    {
      "cell_type": "markdown",
      "metadata": {
        "id": "gUb1jQW8O9Dt"
      },
      "source": [
        "Посчитайте точность на тестовой выборке:"
      ]
    },
    {
      "cell_type": "code",
      "execution_count": null,
      "metadata": {
        "colab": {
          "base_uri": "https://localhost:8080/"
        },
        "id": "Jyuc55B9_Amc",
        "outputId": "03d7bb03-9bb4-4f1e-c1be-e9c28e0d0546"
      },
      "outputs": [
        {
          "output_type": "execute_result",
          "data": {
            "text/plain": [
              "(55.85172744313623, 0.7019307324840764)"
            ]
          },
          "metadata": {},
          "execution_count": 12
        }
      ],
      "source": [
        "test(net, test_loader)"
      ]
    },
    {
      "cell_type": "markdown",
      "metadata": {
        "id": "zM38Q9fwO9Dt"
      },
      "source": [
        "Если вы все сделали правильно, у вас должна была получиться точность $\\ge 67\\%$."
      ]
    },
    {
      "cell_type": "markdown",
      "metadata": {
        "id": "DHFNSKcoO9Dt"
      },
      "source": [
        "**Задание 2.2 (1 балл).** Постройте графики зависимости функции потерь и точности классификации от номера шага оптимизатора. На каждом графике расположите данные и для обучающей и для валидационной выборки, итого у вас должно получиться два графика. Обратите внимание, что на обучающей выборке эти данные считаются по каждому батчу, на валидационной же они считаются по всей выборке раз в эпоху."
      ]
    },
    {
      "cell_type": "code",
      "execution_count": null,
      "metadata": {
        "colab": {
          "base_uri": "https://localhost:8080/",
          "height": 280
        },
        "id": "LzIP0tGLO9Dt",
        "outputId": "347fe461-e4d6-47c0-aa57-33f7f3ecb4be"
      },
      "outputs": [
        {
          "output_type": "display_data",
          "data": {
            "text/plain": [
              "<Figure size 936x288 with 2 Axes>"
            ],
            "image/png": "[encoded data removed]"
          },
          "metadata": {
            "needs_background": "light"
          }
        }
      ],
      "source": [
        "fig, axs = plt.subplots(1, 2, figsize=(13, 4))\n",
        "\n",
        "steps_num = len(train_acc_log) // 20\n",
        "\n",
        "axs[0].plot(range(1, len(train_loss_log) + 1), train_loss_log, label='train')\n",
        "axs[0].plot(range(steps_num, len(train_loss_log) + steps_num, steps_num), val_loss_log, label='val')\n",
        "axs[0].set_ylabel('loss')\n",
        "\n",
        "axs[1].plot(range(1, len(train_acc_log) + 1), train_acc_log, label='train')\n",
        "axs[1].plot(range(steps_num, len(train_acc_log) + steps_num,  steps_num), val_acc_log, label='val')\n",
        "axs[1].set_ylabel('accuracy')\n",
        "\n",
        "for ax in axs:\n",
        "    ax.set_xlabel('optimizer_step')\n",
        "    ax.legend()\n",
        "\n",
        "plt.show()"
      ]
    },
    {
      "cell_type": "markdown",
      "metadata": {
        "id": "_ttOJPj-O9Dt"
      },
      "source": [
        "## 3. Расписание длины шага (2 балла)"
      ]
    },
    {
      "cell_type": "markdown",
      "metadata": {
        "id": "qiz3JstuO9Dt"
      },
      "source": [
        "С курса \"Машинное обучение 1\" вы уже должны знать, что сходимость стохастического градиентного спуска мы можем теоретически гарантировать только если будем определенным образом со временем уменьшать длину шага. На практике при обучении нейронных сетей такая техника оказывается очень полезной, однако теоретически обоснованными способами уменьшения длины шага фантазия не ограничивается.\n",
        "\n",
        "Одним из простейших способов является кусочно постоянная функция: на нескольких фиксированных эпохах уменьшаем длину шага в константу раз."
      ]
    },
    {
      "cell_type": "code",
      "execution_count": null,
      "metadata": {
        "colab": {
          "base_uri": "https://localhost:8080/"
        },
        "id": "V2Z0OT3nO9Du",
        "outputId": "eebf70f1-26d9-4c62-dac3-c83a1060cb78"
      },
      "outputs": [
        {
          "output_type": "stream",
          "name": "stdout",
          "text": [
            "Epoch 0\n",
            " train loss: 94.3567242526485, train acc: 0.4748914533820841\n",
            " val loss: 80.28983203400956, val acc: 0.5605274822695034\n",
            "\n",
            "Epoch 1\n",
            " train loss: 73.94814040935454, train acc: 0.5949578871768085\n",
            " val loss: 72.4590459945354, val acc: 0.6028368794326242\n",
            "\n",
            "Epoch 2\n",
            " train loss: 68.27068703876336, train acc: 0.629729531209193\n",
            " val loss: 69.83788320257308, val acc: 0.6171542553191489\n",
            "\n",
            "Epoch 3\n",
            " train loss: 64.97456726426398, train acc: 0.6470888286758945\n",
            " val loss: 64.43716329209347, val acc: 0.6515735815602838\n",
            "\n",
            "Epoch 4\n",
            " train loss: 62.13939888167861, train acc: 0.6626158918777749\n",
            " val loss: 63.162252271936296, val acc: 0.6600842198581561\n",
            "\n",
            "Epoch 5\n",
            " train loss: 60.35040810687887, train acc: 0.6739479955601985\n",
            " val loss: 60.28159921118554, val acc: 0.6754875886524822\n",
            "\n",
            "Epoch 6\n",
            " train loss: 58.78333925634241, train acc: 0.6801996278401672\n",
            " val loss: 60.32351951193302, val acc: 0.6772828014184397\n",
            "\n",
            "Epoch 7\n",
            " train loss: 57.92406859999383, train acc: 0.6844476364586053\n",
            " val loss: 58.0502880279054, val acc: 0.6891843971631205\n",
            "\n",
            "Epoch 8\n",
            " train loss: 56.47086496021891, train acc: 0.6946861125620266\n",
            " val loss: 57.68200000397702, val acc: 0.6881870567375886\n",
            "\n",
            "Epoch 9\n",
            " train loss: 55.768545135065665, train acc: 0.6979547531992687\n",
            " val loss: 56.66129355126239, val acc: 0.6959663120567375\n",
            "\n",
            "Epoch 10\n",
            " train loss: 48.80651670487315, train acc: 0.7357134695743014\n",
            " val loss: 53.44208603108183, val acc: 0.7135638297872341\n",
            "\n",
            "Epoch 11\n",
            " train loss: 47.697418972168805, train acc: 0.7410714285714286\n",
            " val loss: 53.13435368842267, val acc: 0.7126329787234043\n",
            "\n",
            "Epoch 12\n",
            " train loss: 47.34759203302359, train acc: 0.744335988508749\n",
            " val loss: 53.04188540235479, val acc: 0.7146941489361702\n",
            "\n",
            "Epoch 13\n",
            " train loss: 47.086279294608495, train acc: 0.7438014168190128\n",
            " val loss: 53.289225815712136, val acc: 0.7125\n",
            "\n",
            "Epoch 14\n",
            " train loss: 46.83475168008473, train acc: 0.7450909179942543\n",
            " val loss: 52.58136485282411, val acc: 0.7155585106382979\n",
            "\n",
            "Epoch 15\n",
            " train loss: 45.88348873093098, train acc: 0.7520117850613738\n",
            " val loss: 52.3141064582987, val acc: 0.7164893617021276\n",
            "\n",
            "Epoch 16\n",
            " train loss: 45.72712936610583, train acc: 0.7539378754243928\n",
            " val loss: 52.2399704405602, val acc: 0.7164228723404256\n",
            "\n",
            "Epoch 17\n",
            " train loss: 45.65532881860541, train acc: 0.755757867589449\n",
            " val loss: 52.25609228255901, val acc: 0.7178191489361702\n",
            "\n",
            "Epoch 18\n",
            " train loss: 45.67514745408918, train acc: 0.7538072930269\n",
            " val loss: 52.3541748757058, val acc: 0.7174202127659575\n",
            "\n",
            "Epoch 19\n",
            " train loss: 45.60473733061628, train acc: 0.7551661661008097\n",
            " val loss: 52.2633702359301, val acc: 0.7178191489361702\n",
            "\n"
          ]
        }
      ],
      "source": [
        "net = BasicBlockNet().to(device)\n",
        "optimizer = optim.SGD(net.parameters(), lr=0.1, momentum=0.9)\n",
        "scheduler = optim.lr_scheduler.MultiStepLR(optimizer, milestones=[10, 15], gamma=0.1)\n",
        "tr_loss_log, tr_acc_log, val_loss_log, val_acc_log = train(net, optimizer, 20, train_loader, val_loader, scheduler)"
      ]
    },
    {
      "cell_type": "markdown",
      "metadata": {
        "id": "5Xc76KvzO9Du"
      },
      "source": [
        "Посчитайте точность на тестовой выборке:"
      ]
    },
    {
      "cell_type": "code",
      "execution_count": null,
      "metadata": {
        "colab": {
          "base_uri": "https://localhost:8080/"
        },
        "id": "1AjiYhKqO9Du",
        "outputId": "c87483cf-97d9-41e3-e068-9f94b578985b"
      },
      "outputs": [
        {
          "output_type": "execute_result",
          "data": {
            "text/plain": [
              "(53.8547248111409, 0.7105891719745223)"
            ]
          },
          "metadata": {},
          "execution_count": 15
        }
      ],
      "source": [
        "test(net, test_loader)"
      ]
    },
    {
      "cell_type": "markdown",
      "metadata": {
        "id": "yE0dgLYrO9Du"
      },
      "source": [
        "**Задание 3.0 (0.5 баллов).** Здесь может возникнуть вопрос: а что будет, если мы не будем уменьшать длину шага в процессе обучения, а сразу возьмем констатную, равную значению нашей кусочно-постоянной функции на последних эпохах, то есть $0.001$ в нашем случае. Запустите обучение и проверьте, что в таком случае мы получим худшее качество на тестовой выборке."
      ]
    },
    {
      "cell_type": "code",
      "execution_count": null,
      "metadata": {
        "colab": {
          "base_uri": "https://localhost:8080/"
        },
        "id": "qZ2iB-LBO9Du",
        "outputId": "b4eb4c60-bc6d-46fd-96e2-fbf11c787243"
      },
      "outputs": [
        {
          "output_type": "stream",
          "name": "stdout",
          "text": [
            "Epoch 0\n",
            " train loss: 116.93781012547299, train acc: 0.3604196591799425\n",
            " val loss: 102.01180789622855, val acc: 0.44386081560283686\n",
            "\n",
            "Epoch 1\n",
            " train loss: 97.23426038996611, train acc: 0.4704271676677984\n",
            " val loss: 92.04313731497906, val acc: 0.48721187943262406\n",
            "\n",
            "Epoch 2\n",
            " train loss: 89.30900091662922, train acc: 0.510393542700444\n",
            " val loss: 86.07495352156619, val acc: 0.5171542553191489\n",
            "\n",
            "Epoch 3\n",
            " train loss: 84.46394703287964, train acc: 0.536281503003395\n",
            " val loss: 81.7494563163595, val acc: 0.5476507092198583\n",
            "\n",
            "Epoch 4\n",
            " train loss: 80.99607185733383, train acc: 0.5563381431183076\n",
            " val loss: 78.51690994830842, val acc: 0.5681959219858157\n",
            "\n",
            "Epoch 5\n",
            " train loss: 78.06049671556657, train acc: 0.5730322864977802\n",
            " val loss: 77.98551994486058, val acc: 0.5710992907801418\n",
            "\n",
            "Epoch 6\n",
            " train loss: 75.54152424026015, train acc: 0.5899631104727083\n",
            " val loss: 74.5364410278645, val acc: 0.5877659574468085\n",
            "\n",
            "Epoch 7\n",
            " train loss: 73.16550295095774, train acc: 0.6012707299556019\n",
            " val loss: 72.1036928136298, val acc: 0.6044104609929077\n",
            "\n",
            "Epoch 8\n",
            " train loss: 71.21539352493704, train acc: 0.6112357991642726\n",
            " val loss: 71.81076544903695, val acc: 0.6062278368794327\n",
            "\n",
            "Epoch 9\n",
            " train loss: 69.26275272822686, train acc: 0.6243838143118308\n",
            " val loss: 69.33025775665932, val acc: 0.6179964539007093\n",
            "\n",
            "Epoch 10\n",
            " train loss: 67.65202795565673, train acc: 0.6315862496735439\n",
            " val loss: 66.55909170191339, val acc: 0.63395390070922\n",
            "\n",
            "Epoch 11\n",
            " train loss: 65.9946056449653, train acc: 0.6407963893967094\n",
            " val loss: 66.14563150608794, val acc: 0.6386524822695034\n",
            "\n",
            "Epoch 12\n",
            " train loss: 64.92815547364286, train acc: 0.647631561765474\n",
            " val loss: 65.01357160730565, val acc: 0.641799645390071\n",
            "\n",
            "Epoch 13\n",
            " train loss: 63.53620466235787, train acc: 0.6550951619221729\n",
            " val loss: 66.28141629442256, val acc: 0.6381870567375886\n",
            "\n",
            "Epoch 14\n",
            " train loss: 62.81498078149241, train acc: 0.6568172172891095\n",
            " val loss: 62.875129417662926, val acc: 0.6538563829787234\n",
            "\n",
            "Epoch 15\n",
            " train loss: 61.992559474826514, train acc: 0.6636115826586576\n",
            " val loss: 63.51273777332712, val acc: 0.651595744680851\n",
            "\n",
            "Epoch 16\n",
            " train loss: 61.21171132389327, train acc: 0.6673127774875947\n",
            " val loss: 62.19460293993037, val acc: 0.6597296099290779\n",
            "\n",
            "Epoch 17\n",
            " train loss: 60.625151749284875, train acc: 0.6704630778271089\n",
            " val loss: 61.49317970884607, val acc: 0.662610815602837\n",
            "\n",
            "Epoch 18\n",
            " train loss: 59.75517566374059, train acc: 0.676873857404022\n",
            " val loss: 61.06521418754091, val acc: 0.6665115248226949\n",
            "\n",
            "Epoch 19\n",
            " train loss: 59.32781427303224, train acc: 0.677420671193523\n",
            " val loss: 60.13048398241084, val acc: 0.6716533687943264\n",
            "\n"
          ]
        }
      ],
      "source": [
        "net = BasicBlockNet().to(device)\n",
        "optimizer = optim.SGD(net.parameters(), lr=0.001, momentum=0.9)\n",
        "tr_loss_log, tr_acc_log, val_loss_log, val_acc_log = train(net, optimizer, 20, train_loader, val_loader)"
      ]
    },
    {
      "cell_type": "code",
      "execution_count": null,
      "metadata": {
        "colab": {
          "base_uri": "https://localhost:8080/"
        },
        "id": "1SMvgrYi8H2h",
        "outputId": "51d01c7e-6a4c-47b9-9ee3-622f921cdb2e"
      },
      "outputs": [
        {
          "output_type": "execute_result",
          "data": {
            "text/plain": [
              "(60.1662480724845, 0.6706807324840764)"
            ]
          },
          "metadata": {},
          "execution_count": 17
        }
      ],
      "source": [
        "test(net, test_loader)"
      ]
    },
    {
      "cell_type": "markdown",
      "metadata": {
        "id": "xVotU378O9Du"
      },
      "source": [
        "**Задание 3.1 (1.5 балла).** Изучите, какие еще способы уменьшения длины шага представлены в <code>torch.optim.lr_scheduler</code>. Выберите несколько из них, объясните, как они устроены, и обучите модель с ними. Удалось ли добиться улучшения качества на тестовой выборке?"
      ]
    },
    {
      "cell_type": "markdown",
      "metadata": {
        "id": "5a_zMNNVO9Du"
      },
      "source": [
        "`MultiplicativeLR` --- умножает `lr` на коэффициент, определяемый переданной функцией: $$lr_{\\text{epoch}} = lr_{\\text{epoch} - 1} * Lambda(\\text{epoch})$$"
      ]
    },
    {
      "cell_type": "code",
      "execution_count": null,
      "metadata": {
        "id": "nkGlzocOO9Du",
        "colab": {
          "base_uri": "https://localhost:8080/"
        },
        "outputId": "01c8daaa-ede3-44a7-cda3-88aed4d721f4"
      },
      "outputs": [
        {
          "output_type": "stream",
          "name": "stdout",
          "text": [
            "Epoch 0\n",
            " train loss: 94.98871561465359, train acc: 0.47146366544789764\n",
            " val loss: 81.6789791715906, val acc: 0.5535904255319148\n",
            "\n",
            "Epoch 1\n",
            " train loss: 75.10776161668069, train acc: 0.5901793875685558\n",
            " val loss: 68.86293583727897, val acc: 0.6249113475177306\n",
            "\n",
            "Epoch 2\n",
            " train loss: 67.79876909308285, train acc: 0.6306313658918777\n",
            " val loss: 67.97111497838446, val acc: 0.6338874113475178\n",
            "\n",
            "Epoch 3\n",
            " train loss: 63.33068884094629, train acc: 0.6556827827108905\n",
            " val loss: 66.32818027252847, val acc: 0.6383421985815604\n",
            "\n",
            "Epoch 4\n",
            " train loss: 60.55348211930047, train acc: 0.6698958605379995\n",
            " val loss: 63.34310501179797, val acc: 0.6481826241134753\n",
            "\n",
            "Epoch 5\n",
            " train loss: 58.2191699034989, train acc: 0.6828724862888482\n",
            " val loss: 64.18641718803568, val acc: 0.6570257092198583\n",
            "\n",
            "Epoch 6\n",
            " train loss: 56.302554127939004, train acc: 0.6936292112823191\n",
            " val loss: 58.906232979957096, val acc: 0.6835992907801418\n",
            "\n",
            "Epoch 7\n",
            " train loss: 54.199274598353526, train acc: 0.7056183076521285\n",
            " val loss: 57.11045461208262, val acc: 0.6868794326241136\n",
            "\n",
            "Epoch 8\n",
            " train loss: 52.65067464995864, train acc: 0.7130206973100026\n",
            " val loss: 56.62226224655801, val acc: 0.6925310283687944\n",
            "\n",
            "Epoch 9\n",
            " train loss: 51.114331436331575, train acc: 0.7232999804126403\n",
            " val loss: 56.449875931029624, val acc: 0.6927748226950354\n",
            "\n",
            "Epoch 10\n",
            " train loss: 49.68277251524289, train acc: 0.7304493666753721\n",
            " val loss: 56.937200185085864, val acc: 0.691511524822695\n",
            "\n",
            "Epoch 11\n",
            " train loss: 48.81998525023243, train acc: 0.73647656045965\n",
            " val loss: 54.473743901354204, val acc: 0.70625\n",
            "\n",
            "Epoch 12\n",
            " train loss: 47.86960347435374, train acc: 0.7423976560459651\n",
            " val loss: 54.271310337553636, val acc: 0.705296985815603\n",
            "\n",
            "Epoch 13\n",
            " train loss: 47.2106386747831, train acc: 0.7442054061112562\n",
            " val loss: 53.13730879235775, val acc: 0.7132535460992907\n",
            "\n",
            "Epoch 14\n",
            " train loss: 46.70940234325486, train acc: 0.7470129276573518\n",
            " val loss: 53.08014687883093, val acc: 0.7126551418439715\n",
            "\n",
            "Epoch 15\n",
            " train loss: 46.38789965422106, train acc: 0.7519056868634109\n",
            " val loss: 52.93257192855186, val acc: 0.7145168439716312\n",
            "\n",
            "Epoch 16\n",
            " train loss: 46.227233135286156, train acc: 0.7509099960825282\n",
            " val loss: 52.70609397685274, val acc: 0.7157801418439715\n",
            "\n",
            "Epoch 17\n",
            " train loss: 46.08658785881028, train acc: 0.7519220096630974\n",
            " val loss: 52.68615699118756, val acc: 0.7159131205673758\n",
            "\n",
            "Epoch 18\n",
            " train loss: 45.96950503546316, train acc: 0.7506243470880126\n",
            " val loss: 52.65472692327297, val acc: 0.7159796099290779\n",
            "\n",
            "Epoch 19\n",
            " train loss: 45.89921763348623, train acc: 0.7518485570645077\n",
            " val loss: 52.653088210491426, val acc: 0.716511524822695\n",
            "\n"
          ]
        }
      ],
      "source": [
        "net = BasicBlockNet().to(device)\n",
        "optimizer = optim.SGD(net.parameters(), lr=0.1, momentum=0.9)\n",
        "scheduler = optim.lr_scheduler.MultiplicativeLR(optimizer, lr_lambda=lambda epoch: 0.9 ** (epoch // 3))\n",
        "tr_loss_log, tr_acc_log, val_loss_log, val_acc_log = train(net, optimizer, 20, train_loader, val_loader, scheduler)"
      ]
    },
    {
      "cell_type": "code",
      "execution_count": null,
      "metadata": {
        "id": "wws90W54_oMd",
        "colab": {
          "base_uri": "https://localhost:8080/"
        },
        "outputId": "ad1434f5-8ffd-4732-ef10-6063a8ba55e0"
      },
      "outputs": [
        {
          "output_type": "execute_result",
          "data": {
            "text/plain": [
              "(53.93861789460395, 0.7038216560509554)"
            ]
          },
          "metadata": {},
          "execution_count": 19
        }
      ],
      "source": [
        "test(net, test_loader)"
      ]
    },
    {
      "cell_type": "markdown",
      "metadata": {
        "id": "1kfyQRSL_rs7"
      },
      "source": [
        "`ExponentialLR` --- умножает `lr` на заданный коэффициент `gamma`:\n",
        "$$lr_{\\text{epoch}} = Gamma * lr_{\\text{epoch} - 1}$$ "
      ]
    },
    {
      "cell_type": "code",
      "execution_count": null,
      "metadata": {
        "id": "cXGgJQe6FBs-",
        "colab": {
          "base_uri": "https://localhost:8080/"
        },
        "outputId": "b5dab548-30b6-49b6-adca-b986e669e6c3"
      },
      "outputs": [
        {
          "output_type": "stream",
          "name": "stdout",
          "text": [
            "Epoch 0\n",
            " train loss: 94.56194624124977, train acc: 0.47598916166100813\n",
            " val loss: 79.96266774522498, val acc: 0.5642730496453902\n",
            "\n",
            "Epoch 1\n",
            " train loss: 74.65082764058924, train acc: 0.5924523374249151\n",
            " val loss: 70.2984292943427, val acc: 0.6144281914893617\n",
            "\n",
            "Epoch 2\n",
            " train loss: 67.80353224822329, train acc: 0.6322962914599113\n",
            " val loss: 69.77464815505007, val acc: 0.6129210992907801\n",
            "\n",
            "Epoch 3\n",
            " train loss: 64.05436547364788, train acc: 0.6509042831026378\n",
            " val loss: 66.47507290129965, val acc: 0.6396054964539007\n",
            "\n",
            "Epoch 4\n",
            " train loss: 61.81592174683454, train acc: 0.6659090167145468\n",
            " val loss: 60.27971455188508, val acc: 0.6770833333333333\n",
            "\n",
            "Epoch 5\n",
            " train loss: 59.49049468973219, train acc: 0.6773268150953252\n",
            " val loss: 62.06563080726786, val acc: 0.6623005319148936\n",
            "\n",
            "Epoch 6\n",
            " train loss: 57.523713478004694, train acc: 0.6894873008618438\n",
            " val loss: 64.46066089386636, val acc: 0.6549867021276595\n",
            "\n",
            "Epoch 7\n",
            " train loss: 56.43772271172002, train acc: 0.6926824889004962\n",
            " val loss: 59.09558678687887, val acc: 0.6807624113475178\n",
            "\n",
            "Epoch 8\n",
            " train loss: 55.591115103343284, train acc: 0.6978119287020109\n",
            " val loss: 63.08755131376551, val acc: 0.6620789007092199\n",
            "\n",
            "Epoch 9\n",
            " train loss: 53.75196734904371, train acc: 0.7090542569861582\n",
            " val loss: 59.192291821824746, val acc: 0.6795656028368795\n",
            "\n",
            "Epoch 10\n",
            " train loss: 52.92283886747343, train acc: 0.7154772786628363\n",
            " val loss: 59.20033261725243, val acc: 0.6821365248226949\n",
            "\n",
            "Epoch 11\n",
            " train loss: 52.07261633219187, train acc: 0.7177624706189606\n",
            " val loss: 56.393984262993996, val acc: 0.6964760638297872\n",
            "\n",
            "Epoch 12\n",
            " train loss: 51.53909559354486, train acc: 0.7209535779576912\n",
            " val loss: 57.47549622921233, val acc: 0.6891179078014184\n",
            "\n",
            "Epoch 13\n",
            " train loss: 50.88709057837561, train acc: 0.7262666492556803\n",
            " val loss: 58.138221505347715, val acc: 0.6928191489361702\n",
            "\n",
            "Epoch 14\n",
            " train loss: 49.92427869688658, train acc: 0.7323836184382345\n",
            " val loss: 56.894679858836724, val acc: 0.6960992907801418\n",
            "\n",
            "Epoch 15\n",
            " train loss: 49.52050213055375, train acc: 0.7339016388090885\n",
            " val loss: 56.612036895751956, val acc: 0.6984485815602838\n",
            "\n",
            "Epoch 16\n",
            " train loss: 48.6529306633163, train acc: 0.7382883912248629\n",
            " val loss: 56.30583451250766, val acc: 0.703125\n",
            "\n",
            "Epoch 17\n",
            " train loss: 48.40294470168119, train acc: 0.7381863737268216\n",
            " val loss: 54.740416139237425, val acc: 0.707424645390071\n",
            "\n",
            "Epoch 18\n",
            " train loss: 47.68381105349748, train acc: 0.7429567119352312\n",
            " val loss: 54.156297519359185, val acc: 0.714450354609929\n",
            "\n",
            "Epoch 19\n",
            " train loss: 47.29133402756407, train acc: 0.7454541002872813\n",
            " val loss: 54.117445292371386, val acc: 0.716578014184397\n",
            "\n"
          ]
        }
      ],
      "source": [
        "net = BasicBlockNet().to(device)\n",
        "optimizer = optim.SGD(net.parameters(), lr=0.1, momentum=0.9)\n",
        "scheduler = optim.lr_scheduler.ExponentialLR(optimizer, gamma=0.98)\n",
        "tr_loss_log, tr_acc_log, val_loss_log, val_acc_log = train(net, optimizer, 20, train_loader, val_loader, scheduler)"
      ]
    },
    {
      "cell_type": "code",
      "execution_count": null,
      "metadata": {
        "id": "HLfdQbwLFNfZ",
        "colab": {
          "base_uri": "https://localhost:8080/"
        },
        "outputId": "d60b0b60-b95d-4276-ca7a-ebc763756f95"
      },
      "outputs": [
        {
          "output_type": "execute_result",
          "data": {
            "text/plain": [
              "(55.50792172304384, 0.7017316878980892)"
            ]
          },
          "metadata": {},
          "execution_count": 21
        }
      ],
      "source": [
        "test(net, test_loader)"
      ]
    },
    {
      "cell_type": "markdown",
      "metadata": {
        "id": "ir4wZL3uHJuO"
      },
      "source": [
        "`CyclicLR` --- циклично меняет `lr` от наименьшей заданной границы до наибольшей и наоборот, позволяет менять амплитуду изменений "
      ]
    },
    {
      "cell_type": "code",
      "execution_count": null,
      "metadata": {
        "id": "L9uzdeUxHKnP",
        "colab": {
          "base_uri": "https://localhost:8080/"
        },
        "outputId": "d72f6398-18c2-450f-b7f4-2640bcc496f9"
      },
      "outputs": [
        {
          "output_type": "stream",
          "name": "stdout",
          "text": [
            "Epoch 0\n",
            " train loss: 119.25121417036875, train acc: 0.3462269848524419\n",
            " val loss: 105.16068178542118, val acc: 0.4333776595744681\n",
            "\n",
            "Epoch 1\n",
            " train loss: 91.28259574952901, train acc: 0.49209568425176287\n",
            " val loss: 80.85437754773079, val acc: 0.5411347517730497\n",
            "\n",
            "Epoch 2\n",
            " train loss: 71.8405739036295, train acc: 0.6095667928963175\n",
            " val loss: 70.77493146125306, val acc: 0.616267730496454\n",
            "\n",
            "Epoch 3\n",
            " train loss: 70.62761614309586, train acc: 0.6145860537999478\n",
            " val loss: 67.49449946220885, val acc: 0.6317597517730498\n",
            "\n",
            "Epoch 4\n",
            " train loss: 61.66528961122363, train acc: 0.6685573909636982\n",
            " val loss: 62.42135372364775, val acc: 0.6614361702127659\n",
            "\n",
            "Epoch 5\n",
            " train loss: 63.25314879548179, train acc: 0.6566784734917733\n",
            " val loss: 66.07835180404338, val acc: 0.6363475177304966\n",
            "\n",
            "Epoch 6\n",
            " train loss: 58.233583585435774, train acc: 0.6857901867328283\n",
            " val loss: 59.38326741482349, val acc: 0.6797429078014183\n",
            "\n",
            "Epoch 7\n",
            " train loss: 58.97933060159631, train acc: 0.6814238378166623\n",
            " val loss: 60.91914359762313, val acc: 0.667331560283688\n",
            "\n",
            "Epoch 8\n",
            " train loss: 55.79255324613024, train acc: 0.7009948746408985\n",
            " val loss: 57.6254253448324, val acc: 0.6864804964539007\n",
            "\n",
            "Epoch 9\n",
            " train loss: 56.53005359203332, train acc: 0.6960449856359362\n",
            " val loss: 60.42591873128364, val acc: 0.6697695035460992\n",
            "\n",
            "Epoch 10\n",
            " train loss: 54.51648516628816, train acc: 0.706605837033168\n",
            " val loss: 56.71540475601846, val acc: 0.6906028368794327\n",
            "\n",
            "Epoch 11\n",
            " train loss: 55.009149384019146, train acc: 0.7030923544006269\n",
            " val loss: 57.35152498001748, val acc: 0.6874556737588652\n",
            "\n",
            "Epoch 12\n",
            " train loss: 53.81894068395416, train acc: 0.7102294985635936\n",
            " val loss: 56.31100053787232, val acc: 0.6943705673758864\n",
            "\n",
            "Epoch 13\n",
            " train loss: 54.1259003295759, train acc: 0.7071404087229041\n",
            " val loss: 56.39776711159564, val acc: 0.6924423758865248\n",
            "\n",
            "Epoch 14\n",
            " train loss: 53.43486597594657, train acc: 0.7142163423870462\n",
            " val loss: 56.02340805581275, val acc: 0.6978501773049646\n",
            "\n",
            "Epoch 15\n",
            " train loss: 53.45312974309137, train acc: 0.713192086706712\n",
            " val loss: 55.966506471025184, val acc: 0.6934840425531915\n",
            "\n",
            "Epoch 16\n",
            " train loss: 52.91186581930687, train acc: 0.7163627905458344\n",
            " val loss: 55.66275201959813, val acc: 0.6983156028368795\n",
            "\n",
            "Epoch 17\n",
            " train loss: 53.015439648950775, train acc: 0.7132818621049882\n",
            " val loss: 55.73622984581805, val acc: 0.6971631205673758\n",
            "\n",
            "Epoch 18\n",
            " train loss: 52.76513487242258, train acc: 0.716146513449987\n",
            " val loss: 55.647993582867564, val acc: 0.6965425531914894\n",
            "\n",
            "Epoch 19\n",
            " train loss: 52.65536532323583, train acc: 0.7165831483416035\n",
            " val loss: 55.55425655080917, val acc: 0.6962987588652482\n",
            "\n"
          ]
        }
      ],
      "source": [
        "net = BasicBlockNet().to(device)\n",
        "optimizer = optim.SGD(net.parameters(), lr=0.1, momentum=0.9)\n",
        "scheduler = optim.lr_scheduler.CyclicLR(optimizer, base_lr=0.001, max_lr=0.1, step_size_up=1, mode='triangular2')\n",
        "tr_loss_log, tr_acc_log, val_loss_log, val_acc_log = train(net, optimizer, 20, train_loader, val_loader, scheduler)"
      ]
    },
    {
      "cell_type": "code",
      "execution_count": null,
      "metadata": {
        "id": "xr5l8LjjHLEZ",
        "colab": {
          "base_uri": "https://localhost:8080/"
        },
        "outputId": "a027f653-eff5-4700-f90b-225a752b01d2"
      },
      "outputs": [
        {
          "output_type": "execute_result",
          "data": {
            "text/plain": [
              "(56.57622017830041, 0.6948646496815286)"
            ]
          },
          "metadata": {},
          "execution_count": 23
        }
      ],
      "source": [
        "test(net, test_loader)"
      ]
    },
    {
      "cell_type": "markdown",
      "metadata": {
        "id": "TfJQ1QY7IRgB"
      },
      "source": [
        "**Итог:** все рассмотренные варианты оказались лучше статичного шага"
      ]
    },
    {
      "cell_type": "markdown",
      "metadata": {
        "id": "7xFXgl_3_E--"
      },
      "source": [
        "## 4. Аугментации данных (2 балла)"
      ]
    },
    {
      "cell_type": "markdown",
      "metadata": {
        "id": "5G0Easo9O9Du"
      },
      "source": [
        "Еще одной стандартной техникой, применяющейся в глубинном обучении, а особенно часто в компьютерном зрении, являются аугментации данных. Суть аугментаций состоит в том, что мы можем некоторым синтетическим образом видоизменять объекты обучающей выборки, тем самым расширяя ее, а также делая итоговую модель более устойчивой к таким изменениям.\n",
        "\n",
        "Простейшая аугментация, которую можно применить к картинкам — разворот картинки по горизонтальной оси. То есть при обучении модели с вероятностью $0.5$ мы будем разворачивать картинку из обучающей выборки."
      ]
    },
    {
      "cell_type": "code",
      "execution_count": null,
      "metadata": {
        "id": "SzeFpgtfO9Du",
        "colab": {
          "base_uri": "https://localhost:8080/",
          "height": 259
        },
        "outputId": "a98a6198-fa6c-4ba2-e565-fe6aa08d44eb"
      },
      "outputs": [
        {
          "output_type": "display_data",
          "data": {
            "text/plain": [
              "<Figure size 432x288 with 1 Axes>"
            ],
            "image/png": "[encoded data removed]"
          },
          "metadata": {
            "needs_background": "light"
          }
        },
        {
          "output_type": "display_data",
          "data": {
            "text/plain": [
              "<Figure size 432x288 with 1 Axes>"
            ],
            "image/png": "[encoded data removed]"
          },
          "metadata": {
            "needs_background": "light"
          }
        }
      ],
      "source": [
        "dataiter = iter(train_loader)\n",
        "images, labels = dataiter.next()\n",
        "\n",
        "imshow(torchvision.utils.make_grid(images[:4]))\n",
        "\n",
        "imshow(torchvision.utils.make_grid(transforms.functional.hflip(images[:4])))"
      ]
    },
    {
      "cell_type": "markdown",
      "metadata": {
        "id": "BR4a-XJQO9Du"
      },
      "source": [
        "Наиболее удобным способом работы с аугментациями в PyTorch является их задание в списке <code>transforms</code>, который затем передается в загрузчик данных. Обучим нашу сеть, применяя горизонтальные повороты:"
      ]
    },
    {
      "cell_type": "code",
      "execution_count": null,
      "metadata": {
        "id": "na0ScBf-_AqX",
        "scrolled": true,
        "colab": {
          "base_uri": "https://localhost:8080/"
        },
        "outputId": "519ce8dc-741a-45ad-8d59-123ea3fe8f82"
      },
      "outputs": [
        {
          "output_type": "stream",
          "name": "stdout",
          "text": [
            "Files already downloaded and verified\n",
            "Files already downloaded and verified\n",
            "Epoch 0\n",
            " train loss: 95.60588914602722, train acc: 0.4685622878036041\n",
            " val loss: 82.68743131515828, val acc: 0.5338652482269504\n",
            "\n",
            "Epoch 1\n",
            " train loss: 75.76142015579195, train acc: 0.5848214285714286\n",
            " val loss: 70.67258849042527, val acc: 0.613563829787234\n",
            "\n",
            "Epoch 2\n",
            " train loss: 67.98944525396148, train acc: 0.628958278924001\n",
            " val loss: 68.70630889243267, val acc: 0.6301196808510638\n",
            "\n",
            "Epoch 3\n",
            " train loss: 64.49561073400857, train acc: 0.6528222120658135\n",
            " val loss: 66.81824891922322, val acc: 0.6442597517730497\n",
            "\n",
            "Epoch 4\n",
            " train loss: 62.13585360350949, train acc: 0.6640400561504309\n",
            " val loss: 64.61304280301358, val acc: 0.6470744680851064\n",
            "\n",
            "Epoch 5\n",
            " train loss: 59.93064283060635, train acc: 0.6764617067119352\n",
            " val loss: 62.20262024656255, val acc: 0.6591755319148936\n",
            "\n",
            "Epoch 6\n",
            " train loss: 58.907283772498204, train acc: 0.6829173739879864\n",
            " val loss: 60.158716985012624, val acc: 0.6747783687943263\n",
            "\n",
            "Epoch 7\n",
            " train loss: 58.05658130018105, train acc: 0.6867205863149648\n",
            " val loss: 60.271114722718586, val acc: 0.6792774822695035\n",
            "\n",
            "Epoch 8\n",
            " train loss: 56.97531550109277, train acc: 0.6929803799947768\n",
            " val loss: 60.123901275878254, val acc: 0.680186170212766\n",
            "\n",
            "Epoch 9\n",
            " train loss: 55.71790094044352, train acc: 0.7000685557586838\n",
            " val loss: 55.479917520157834, val acc: 0.700953014184397\n",
            "\n",
            "Epoch 10\n",
            " train loss: 50.176513601264745, train acc: 0.7291394620005224\n",
            " val loss: 52.12780896044792, val acc: 0.718218085106383\n",
            "\n",
            "Epoch 11\n",
            " train loss: 49.1328115219172, train acc: 0.7342117720031339\n",
            " val loss: 51.92673904134872, val acc: 0.7202792553191489\n",
            "\n",
            "Epoch 12\n",
            " train loss: 48.898512590955775, train acc: 0.7366357077565944\n",
            " val loss: 51.70305088124377, val acc: 0.723825354609929\n",
            "\n",
            "Epoch 13\n",
            " train loss: 48.37597016137522, train acc: 0.7397778466962652\n",
            " val loss: 51.12300371210626, val acc: 0.7250221631205673\n",
            "\n",
            "Epoch 14\n",
            " train loss: 48.26607876591098, train acc: 0.7391126926090363\n",
            " val loss: 51.45131542124647, val acc: 0.7198138297872341\n",
            "\n",
            "Epoch 15\n",
            " train loss: 47.57472573686562, train acc: 0.7430220031339776\n",
            " val loss: 51.03319885578561, val acc: 0.7269946808510638\n",
            "\n",
            "Epoch 16\n",
            " train loss: 47.29529800537082, train acc: 0.7444869744058501\n",
            " val loss: 50.74669398855656, val acc: 0.725531914893617\n",
            "\n",
            "Epoch 17\n",
            " train loss: 47.26652990180788, train acc: 0.7452296617915904\n",
            " val loss: 50.696744561702644, val acc: 0.7276595744680852\n",
            "\n",
            "Epoch 18\n",
            " train loss: 47.23539548469418, train acc: 0.7451439670932358\n",
            " val loss: 50.687832416372096, val acc: 0.7284796099290779\n",
            "\n",
            "Epoch 19\n",
            " train loss: 47.20038262581694, train acc: 0.7467354400626796\n",
            " val loss: 51.03567351889103, val acc: 0.7275044326241136\n",
            "\n"
          ]
        }
      ],
      "source": [
        "transform = transforms.Compose(\n",
        "        [transforms.RandomHorizontalFlip(),\n",
        "         transforms.ToTensor(),\n",
        "         transforms.Normalize((0.5, 0.5, 0.5), (0.5, 0.5, 0.5))]\n",
        ")\n",
        "\n",
        "train_loader, val_loader, test_loader = get_cifar10_data(batch_size=64, transform_train=transform)\n",
        "\n",
        "net = BasicBlockNet().to(device)\n",
        "optimizer = optim.SGD(net.parameters(), lr=0.1, momentum=0.9)\n",
        "scheduler = optim.lr_scheduler.MultiStepLR(optimizer, milestones=[10, 15], gamma=0.1)\n",
        "tr_loss_log, tr_acc_log, val_loss_log, val_acc_log = train(net, optimizer, 20, train_loader, val_loader, scheduler)"
      ]
    },
    {
      "cell_type": "markdown",
      "metadata": {
        "id": "v3ZIqDQqO9Dv"
      },
      "source": [
        "Посчитайте точность на тестовой выборке:"
      ]
    },
    {
      "cell_type": "code",
      "execution_count": null,
      "metadata": {
        "id": "nNJizMkM_Auh",
        "colab": {
          "base_uri": "https://localhost:8080/"
        },
        "outputId": "31845d9e-03d8-4c6f-d428-4fbd580a6a7e"
      },
      "outputs": [
        {
          "output_type": "execute_result",
          "data": {
            "text/plain": [
              "(51.65582768628552, 0.721437101910828)"
            ]
          },
          "metadata": {},
          "execution_count": 26
        }
      ],
      "source": [
        "test(net, test_loader)"
      ]
    },
    {
      "cell_type": "markdown",
      "metadata": {
        "id": "KndehSCHO9Dv"
      },
      "source": [
        "**Задание 4.1 (2 балла).** Изучите, какие еще способы аугментаций изображений представлены в <code>torchvision.transforms</code>. Выберите несколько из них, объясните, как они устроены, и обучите модель с ними (по отдельности и вместе). Удалось ли добиться улучшения качества на тестовой выборке?"
      ]
    },
    {
      "cell_type": "markdown",
      "metadata": {
        "id": "4K-MptLiO9Dv"
      },
      "source": [
        "`ColorJiter` --- рандомно меняет яркость, контраст, насыщенность и оттенок картнки\n",
        "\n",
        "`RandomRotation` --- поворачивает картинку на рандомный угол в заданных пределах\n",
        "\n",
        "`GaussianBlur` --- размывает картинку"
      ]
    },
    {
      "cell_type": "code",
      "execution_count": null,
      "metadata": {
        "id": "nBiTyy7ilEF1",
        "colab": {
          "base_uri": "https://localhost:8080/"
        },
        "outputId": "ef52e3ec-0837-4aa2-e801-446ae21eca79"
      },
      "outputs": [
        {
          "output_type": "stream",
          "name": "stdout",
          "text": [
            "Files already downloaded and verified\n",
            "Files already downloaded and verified\n",
            "Epoch 0\n",
            " train loss: 96.24764731161338, train acc: 0.46245348002089315\n",
            " val loss: 83.50946217394889, val acc: 0.5280806737588652\n",
            "\n",
            "Epoch 1\n",
            " train loss: 75.9768377265721, train acc: 0.5817445808305041\n",
            " val loss: 71.84604775043245, val acc: 0.6082225177304965\n",
            "\n",
            "Epoch 2\n",
            " train loss: 68.08992859737529, train acc: 0.6301539240010446\n",
            " val loss: 69.26939742514428, val acc: 0.6212544326241135\n",
            "\n",
            "Epoch 3\n",
            " train loss: 64.31495429218579, train acc: 0.651357240793941\n",
            " val loss: 67.05864683110663, val acc: 0.6395390070921987\n",
            "\n",
            "Epoch 4\n",
            " train loss: 61.93435795520734, train acc: 0.663782972055367\n",
            " val loss: 65.54673949302511, val acc: 0.642575354609929\n",
            "\n",
            "Epoch 5\n",
            " train loss: 59.7420016468334, train acc: 0.6745968268477409\n",
            " val loss: 65.21467689757651, val acc: 0.6434618794326242\n",
            "\n",
            "Epoch 6\n",
            " train loss: 58.30271247187306, train acc: 0.6852719378427788\n",
            " val loss: 62.068864883260524, val acc: 0.661081560283688\n",
            "\n",
            "Epoch 7\n",
            " train loss: 57.438087554910716, train acc: 0.6860309480282057\n",
            " val loss: 61.53100085157029, val acc: 0.6737810283687944\n",
            "\n",
            "Epoch 8\n",
            " train loss: 56.75533269397519, train acc: 0.6916419104204753\n",
            " val loss: 59.37941054486214, val acc: 0.6794547872340425\n",
            "\n",
            "Epoch 9\n",
            " train loss: 54.96484103717142, train acc: 0.7020436145207626\n",
            " val loss: 58.116191206587125, val acc: 0.6937943262411348\n",
            "\n",
            "Epoch 10\n",
            " train loss: 47.98372763645932, train acc: 0.7409367654740141\n",
            " val loss: 53.03378993298145, val acc: 0.7144281914893617\n",
            "\n",
            "Epoch 11\n",
            " train loss: 47.022111212749586, train acc: 0.7478535518412118\n",
            " val loss: 52.9330792427063, val acc: 0.7160017730496455\n",
            "\n",
            "Epoch 12\n",
            " train loss: 46.76281336761698, train acc: 0.7496980282057979\n",
            " val loss: 52.7691966665552, val acc: 0.718395390070922\n",
            "\n",
            "Epoch 13\n",
            " train loss: 46.31717607874757, train acc: 0.750608024288326\n",
            " val loss: 52.39277737394292, val acc: 0.7179299645390071\n",
            "\n",
            "Epoch 14\n",
            " train loss: 46.07462298150908, train acc: 0.7527381496474276\n",
            " val loss: 52.640704161055545, val acc: 0.7185948581560284\n",
            "\n",
            "Epoch 15\n",
            " train loss: 45.18133239554313, train acc: 0.7569086249673544\n",
            " val loss: 52.10803364489941, val acc: 0.7210771276595744\n",
            "\n",
            "Epoch 16\n",
            " train loss: 45.0397557541047, train acc: 0.7593733677200313\n",
            " val loss: 52.07480122383605, val acc: 0.7209441489361702\n",
            "\n",
            "Epoch 17\n",
            " train loss: 45.00254467767161, train acc: 0.7603731392008357\n",
            " val loss: 52.091139900937996, val acc: 0.7211436170212766\n",
            "\n",
            "Epoch 18\n",
            " train loss: 44.92039211315036, train acc: 0.7600017955079654\n",
            " val loss: 52.04140007343698, val acc: 0.7210771276595744\n",
            "\n",
            "Epoch 19\n",
            " train loss: 44.91526868356429, train acc: 0.7601650235048316\n",
            " val loss: 52.03842479624647, val acc: 0.721343085106383\n",
            "\n"
          ]
        }
      ],
      "source": [
        "transform = transforms.Compose(\n",
        "        [transforms.ColorJitter(),\n",
        "         transforms.ToTensor(),\n",
        "         transforms.Normalize((0.5, 0.5, 0.5), (0.5, 0.5, 0.5))]\n",
        ")\n",
        "\n",
        "train_loader, val_loader, test_loader = get_cifar10_data(batch_size=64, transform_train=transform)\n",
        "\n",
        "net = BasicBlockNet().to(device)\n",
        "optimizer = optim.SGD(net.parameters(), lr=0.1, momentum=0.9)\n",
        "scheduler = optim.lr_scheduler.MultiStepLR(optimizer, milestones=[10, 15], gamma=0.1)\n",
        "tr_loss_log, tr_acc_log, val_loss_log, val_acc_log = train(net, optimizer, 20, train_loader, val_loader, scheduler)"
      ]
    },
    {
      "cell_type": "code",
      "execution_count": null,
      "metadata": {
        "id": "RunTv4wplkgU",
        "colab": {
          "base_uri": "https://localhost:8080/"
        },
        "outputId": "9f466a15-2b1d-4732-f938-4af8df484d56"
      },
      "outputs": [
        {
          "output_type": "execute_result",
          "data": {
            "text/plain": [
              "(52.802029561085305, 0.7175557324840764)"
            ]
          },
          "metadata": {},
          "execution_count": 28
        }
      ],
      "source": [
        "test(net, test_loader)"
      ]
    },
    {
      "cell_type": "code",
      "execution_count": null,
      "metadata": {
        "id": "TY3hGvVglnUe",
        "colab": {
          "base_uri": "https://localhost:8080/"
        },
        "outputId": "61def25f-adc2-41d0-f251-884234d3d36f"
      },
      "outputs": [
        {
          "output_type": "stream",
          "name": "stdout",
          "text": [
            "Files already downloaded and verified\n",
            "Files already downloaded and verified\n",
            "Epoch 0\n",
            " train loss: 110.02207279205322, train acc: 0.3839897819273962\n",
            " val loss: 101.81485959316822, val acc: 0.42912234042553193\n",
            "\n",
            "Epoch 1\n",
            " train loss: 98.20493494309281, train acc: 0.4506357730477932\n",
            " val loss: 97.99191433115209, val acc: 0.4529255319148936\n",
            "\n",
            "Epoch 2\n",
            " train loss: 92.72169619635211, train acc: 0.4859787150692086\n",
            " val loss: 91.2061312695767, val acc: 0.491334219858156\n",
            "\n",
            "Epoch 3\n",
            " train loss: 89.6842579571377, train acc: 0.502207658657613\n",
            " val loss: 90.77162108319871, val acc: 0.49847074468085106\n",
            "\n",
            "Epoch 4\n",
            " train loss: 87.11916702451828, train acc: 0.5191303212326979\n",
            " val loss: 86.45846614026009, val acc: 0.5196365248226951\n",
            "\n",
            "Epoch 5\n",
            " train loss: 84.76543568082876, train acc: 0.5300339514233482\n",
            " val loss: 84.88969674211867, val acc: 0.5311835106382978\n",
            "\n",
            "Epoch 6\n",
            " train loss: 83.11943320426035, train acc: 0.541549686602246\n",
            " val loss: 82.42416559178778, val acc: 0.5417331560283688\n",
            "\n",
            "Epoch 7\n",
            " train loss: 81.97840822767296, train acc: 0.5453855445285976\n",
            " val loss: 81.82895981403108, val acc: 0.5480718085106383\n",
            "\n",
            "Epoch 8\n",
            " train loss: 81.28311413341292, train acc: 0.549082658657613\n",
            " val loss: 83.36403034697187, val acc: 0.5408023049645391\n",
            "\n",
            "Epoch 9\n",
            " train loss: 79.75018062975114, train acc: 0.5606840885348655\n",
            " val loss: 79.09138231886195, val acc: 0.5596187943262412\n",
            "\n",
            "Epoch 10\n",
            " train loss: 73.77740786934248, train acc: 0.5927910355184122\n",
            " val loss: 73.68232139425075, val acc: 0.587145390070922\n",
            "\n",
            "Epoch 11\n",
            " train loss: 72.56351844222715, train acc: 0.6033600483154871\n",
            " val loss: 72.93033623796828, val acc: 0.595811170212766\n",
            "\n",
            "Epoch 12\n",
            " train loss: 72.62656239225399, train acc: 0.6030743993209715\n",
            " val loss: 72.94818527140517, val acc: 0.6005097517730498\n",
            "\n",
            "Epoch 13\n",
            " train loss: 72.29726837234915, train acc: 0.6028785257247323\n",
            " val loss: 72.0825255738928, val acc: 0.6046985815602838\n",
            "\n",
            "Epoch 14\n",
            " train loss: 71.9117868796563, train acc: 0.6019685296422043\n",
            " val loss: 72.06950489206517, val acc: 0.605075354609929\n",
            "\n",
            "Epoch 15\n",
            " train loss: 71.34096798556814, train acc: 0.6099136523896579\n",
            " val loss: 71.55367979090265, val acc: 0.6066932624113476\n",
            "\n",
            "Epoch 16\n",
            " train loss: 71.28015458387692, train acc: 0.6109664729694437\n",
            " val loss: 71.58064145838961, val acc: 0.6044991134751774\n",
            "\n",
            "Epoch 17\n",
            " train loss: 70.89744121370194, train acc: 0.6113623008618438\n",
            " val loss: 71.37373006698932, val acc: 0.6106604609929077\n",
            "\n",
            "Epoch 18\n",
            " train loss: 70.637099419477, train acc: 0.6120192935492296\n",
            " val loss: 71.63157389214699, val acc: 0.6091755319148936\n",
            "\n",
            "Epoch 19\n",
            " train loss: 70.92009671296672, train acc: 0.6098728453904414\n",
            " val loss: 71.00632502373229, val acc: 0.6078679078014183\n",
            "\n"
          ]
        }
      ],
      "source": [
        "transform = transforms.Compose(\n",
        "        [transforms.RandomRotation(degrees=60),\n",
        "         transforms.ToTensor(),\n",
        "         transforms.Normalize((0.5, 0.5, 0.5), (0.5, 0.5, 0.5))]\n",
        ")\n",
        "\n",
        "train_loader, val_loader, test_loader = get_cifar10_data(batch_size=64, transform_train=transform)\n",
        "\n",
        "net = BasicBlockNet().to(device)\n",
        "optimizer = optim.SGD(net.parameters(), lr=0.1, momentum=0.9)\n",
        "scheduler = optim.lr_scheduler.MultiStepLR(optimizer, milestones=[10, 15], gamma=0.1)\n",
        "tr_loss_log, tr_acc_log, val_loss_log, val_acc_log = train(net, optimizer, 20, train_loader, val_loader, scheduler)"
      ]
    },
    {
      "cell_type": "code",
      "execution_count": null,
      "metadata": {
        "id": "yIPstQ6Lln09",
        "colab": {
          "base_uri": "https://localhost:8080/"
        },
        "outputId": "92b0687b-712b-4f1a-9576-16359f387533"
      },
      "outputs": [
        {
          "output_type": "execute_result",
          "data": {
            "text/plain": [
              "(65.8686141299594, 0.6391321656050956)"
            ]
          },
          "metadata": {},
          "execution_count": 30
        }
      ],
      "source": [
        "test(net, test_loader)"
      ]
    },
    {
      "cell_type": "code",
      "execution_count": null,
      "metadata": {
        "id": "79NnlJr5lzb1",
        "colab": {
          "base_uri": "https://localhost:8080/"
        },
        "outputId": "fa0fd9d0-6b09-4ab4-a4f6-e4cc8476bbf1"
      },
      "outputs": [
        {
          "output_type": "stream",
          "name": "stdout",
          "text": [
            "Files already downloaded and verified\n",
            "Files already downloaded and verified\n",
            "Epoch 0\n",
            " train loss: 103.9139998085538, train acc: 0.4174107142857143\n",
            " val loss: 94.84793359878215, val acc: 0.47012411347517724\n",
            "\n",
            "Epoch 1\n",
            " train loss: 88.3964236867929, train acc: 0.5100140376077305\n",
            " val loss: 81.73158489389623, val acc: 0.549357269503546\n",
            "\n",
            "Epoch 2\n",
            " train loss: 82.32485394068131, train acc: 0.5439124118568817\n",
            " val loss: 78.32370707735102, val acc: 0.5642952127659574\n",
            "\n",
            "Epoch 3\n",
            " train loss: 78.33696816564697, train acc: 0.5674498890049621\n",
            " val loss: 75.91153641152889, val acc: 0.5820921985815604\n",
            "\n",
            "Epoch 4\n",
            " train loss: 75.81283335537536, train acc: 0.5842011621833377\n",
            " val loss: 74.46188512355724, val acc: 0.5918882978723404\n",
            "\n",
            "Epoch 5\n",
            " train loss: 73.8290246304472, train acc: 0.5926930987202925\n",
            " val loss: 76.90022831368954, val acc: 0.5808732269503545\n",
            "\n",
            "Epoch 6\n",
            " train loss: 72.42495415459167, train acc: 0.6021317576390702\n",
            " val loss: 72.20070847856238, val acc: 0.597872340425532\n",
            "\n",
            "Epoch 7\n",
            " train loss: 72.0183999534063, train acc: 0.6034090167145468\n",
            " val loss: 71.64689659159234, val acc: 0.6043882978723404\n",
            "\n",
            "Epoch 8\n",
            " train loss: 70.73965553043094, train acc: 0.6111378623661531\n",
            " val loss: 72.65437669348209, val acc: 0.6016843971631205\n",
            "\n",
            "Epoch 9\n",
            " train loss: 69.43614611895909, train acc: 0.6201480477931575\n",
            " val loss: 71.32028606495959, val acc: 0.6184397163120566\n",
            "\n",
            "Epoch 10\n",
            " train loss: 62.75836209448862, train acc: 0.6542055693392531\n",
            " val loss: 65.84970986386563, val acc: 0.6380097517730497\n",
            "\n",
            "Epoch 11\n",
            " train loss: 61.648610123768584, train acc: 0.6606326717158527\n",
            " val loss: 65.6955417146074, val acc: 0.6379875886524822\n",
            "\n",
            "Epoch 12\n",
            " train loss: 61.44532414633352, train acc: 0.6620160289892923\n",
            " val loss: 65.67693643367036, val acc: 0.6400709219858157\n",
            "\n",
            "Epoch 13\n",
            " train loss: 61.12550082198009, train acc: 0.6639747649516845\n",
            " val loss: 65.08775690362809, val acc: 0.6447695035460992\n",
            "\n",
            "Epoch 14\n",
            " train loss: 60.944324718314945, train acc: 0.6652928310263776\n",
            " val loss: 65.27555175943577, val acc: 0.6424202127659574\n",
            "\n",
            "Epoch 15\n",
            " train loss: 59.799823217897575, train acc: 0.6702916884303995\n",
            " val loss: 64.45187858013396, val acc: 0.6493129432624114\n",
            "\n",
            "Epoch 16\n",
            " train loss: 59.81648254220185, train acc: 0.673323648472186\n",
            " val loss: 64.38897623102716, val acc: 0.649113475177305\n",
            "\n",
            "Epoch 17\n",
            " train loss: 59.45684755959938, train acc: 0.6742377252546357\n",
            " val loss: 64.22190898732936, val acc: 0.653125\n",
            "\n",
            "Epoch 18\n",
            " train loss: 59.73863299455242, train acc: 0.6734623922695221\n",
            " val loss: 64.48721046853572, val acc: 0.6486258865248226\n",
            "\n",
            "Epoch 19\n",
            " train loss: 59.70672602888871, train acc: 0.6725727996866023\n",
            " val loss: 64.42572356284933, val acc: 0.6477393617021276\n",
            "\n"
          ]
        }
      ],
      "source": [
        "transform = transforms.Compose(\n",
        "        [transforms.GaussianBlur(kernel_size=(5, 9)),\n",
        "         transforms.ToTensor(),\n",
        "         transforms.Normalize((0.5, 0.5, 0.5), (0.5, 0.5, 0.5))]\n",
        ")\n",
        "\n",
        "train_loader, val_loader, test_loader = get_cifar10_data(batch_size=64, transform_train=transform)\n",
        "\n",
        "net = BasicBlockNet().to(device)\n",
        "optimizer = optim.SGD(net.parameters(), lr=0.1, momentum=0.9)\n",
        "scheduler = optim.lr_scheduler.MultiStepLR(optimizer, milestones=[10, 15], gamma=0.1)\n",
        "tr_loss_log, tr_acc_log, val_loss_log, val_acc_log = train(net, optimizer, 20, train_loader, val_loader, scheduler)"
      ]
    },
    {
      "cell_type": "code",
      "execution_count": null,
      "metadata": {
        "id": "6B_4gdJ_lz4L",
        "colab": {
          "base_uri": "https://localhost:8080/"
        },
        "outputId": "7d8aa8ad-e5dc-47e5-cdbb-5774215ea102"
      },
      "outputs": [
        {
          "output_type": "execute_result",
          "data": {
            "text/plain": [
              "(62.38205199029036, 0.6653065286624203)"
            ]
          },
          "metadata": {},
          "execution_count": 32
        }
      ],
      "source": [
        "test(net, test_loader)"
      ]
    },
    {
      "cell_type": "markdown",
      "metadata": {
        "id": "HCENjLw5O9Dv"
      },
      "source": [
        "## Бонус. Логирование в wandb (2 балла)"
      ]
    },
    {
      "cell_type": "markdown",
      "metadata": {
        "id": "xOyzc1mnO9Dv"
      },
      "source": [
        "На практике специалиста по глубинному обучению часто встречаются ситуации, когда нейросеть учится на каком-то удаленном сервере. И обычно вам хочется отслеживать прогресс обучения, особенно когда время обучения модели исчисляется днями или неделями. Для таких целей существует несколько инструментов. Вероятно, самый популярный из них — [wandb](https://wandb.ai/site).\n",
        "\n",
        "Ваша задача состоит в том, чтобы разобраться как им пользоваться, и повторить задания 2.1 и 2.2 с его использованием. Обучение вы можете запускать в этом же ноутбуке, но теперь вам необходимо через wandb логировать значения функции потерь и точности на обучающей выборке и на валидационной. Результатом работы должны быть ваш код и публичная ссылка на страничку с графиками, идентичными графикам в задании 2.2."
      ]
    },
    {
      "cell_type": "code",
      "execution_count": null,
      "metadata": {
        "id": "Gn_WAsrgsIHv",
        "colab": {
          "base_uri": "https://localhost:8080/"
        },
        "outputId": "93dfaba3-8546-4bce-ac95-6e34bf1de274"
      },
      "outputs": [
        {
          "output_type": "stream",
          "name": "stdout",
          "text": [
            "\u001b[K     |████████████████████████████████| 1.9 MB 27.6 MB/s \n",
            "\u001b[K     |████████████████████████████████| 182 kB 69.1 MB/s \n",
            "\u001b[K     |████████████████████████████████| 166 kB 57.2 MB/s \n",
            "\u001b[K     |████████████████████████████████| 63 kB 2.0 MB/s \n",
            "\u001b[K     |████████████████████████████████| 166 kB 74.0 MB/s \n",
            "\u001b[K     |████████████████████████████████| 162 kB 67.7 MB/s \n",
            "\u001b[K     |████████████████████████████████| 162 kB 71.4 MB/s \n",
            "\u001b[K     |████████████████████████████████| 158 kB 77.1 MB/s \n",
            "\u001b[K     |████████████████████████████████| 157 kB 56.6 MB/s \n",
            "\u001b[K     |████████████████████████████████| 157 kB 59.2 MB/s \n",
            "\u001b[K     |████████████████████████████████| 157 kB 68.4 MB/s \n",
            "\u001b[K     |████████████████████████████████| 157 kB 77.4 MB/s \n",
            "\u001b[K     |████████████████████████████████| 157 kB 71.9 MB/s \n",
            "\u001b[K     |████████████████████████████████| 157 kB 76.1 MB/s \n",
            "\u001b[K     |████████████████████████████████| 157 kB 69.8 MB/s \n",
            "\u001b[K     |████████████████████████████████| 156 kB 70.3 MB/s \n",
            "\u001b[?25h  Building wheel for pathtools (setup.py) ... \u001b[?25l\u001b[?25hdone\n"
          ]
        }
      ],
      "source": [
        "!pip install wandb -qU"
      ]
    },
    {
      "cell_type": "code",
      "execution_count": null,
      "metadata": {
        "id": "1-m1JGqQJ_XT",
        "colab": {
          "base_uri": "https://localhost:8080/"
        },
        "outputId": "d2a6523e-3fea-4aad-8f4e-40d311e2e0c0"
      },
      "outputs": [
        {
          "output_type": "stream",
          "name": "stdout",
          "text": [
            "\u001b[34m\u001b[1mwandb\u001b[0m: Logging into wandb.ai. (Learn how to deploy a W&B server locally: https://wandb.me/wandb-server)\n",
            "\u001b[34m\u001b[1mwandb\u001b[0m: You can find your API key in your browser here: https://wandb.ai/authorize\n",
            "\u001b[34m\u001b[1mwandb\u001b[0m: Paste an API key from your profile and hit enter, or press ctrl+c to quit: \n",
            "\u001b[34m\u001b[1mwandb\u001b[0m: Appending key for api.wandb.ai to your netrc file: /root/.netrc\n"
          ]
        }
      ],
      "source": [
        "!wandb login --relogin"
      ]
    },
    {
      "cell_type": "code",
      "execution_count": null,
      "metadata": {
        "id": "m5gSTLAr_QS4",
        "colab": {
          "base_uri": "https://localhost:8080/",
          "height": 125
        },
        "outputId": "9cc813c5-11dc-46db-de65-c0f90540b398"
      },
      "outputs": [
        {
          "output_type": "stream",
          "name": "stderr",
          "text": [
            "ERROR:wandb.jupyter:Failed to detect the name of this notebook, you can set it manually with the WANDB_NOTEBOOK_NAME environment variable to enable code saving.\n",
            "\u001b[34m\u001b[1mwandb\u001b[0m: Currently logged in as: \u001b[33mkvdmitrieva\u001b[0m. Use \u001b[1m`wandb login --relogin`\u001b[0m to force relogin\n"
          ]
        },
        {
          "output_type": "display_data",
          "data": {
            "text/plain": [
              "<IPython.core.display.HTML object>"
            ],
            "text/html": [
              "Tracking run with wandb version 0.13.5"
            ]
          },
          "metadata": {}
        },
        {
          "output_type": "display_data",
          "data": {
            "text/plain": [
              "<IPython.core.display.HTML object>"
            ],
            "text/html": [
              "Run data is saved locally in <code>/content/wandb/run-20221106_183341-3tnwuu5b</code>"
            ]
          },
          "metadata": {}
        },
        {
          "output_type": "display_data",
          "data": {
            "text/plain": [
              "<IPython.core.display.HTML object>"
            ],
            "text/html": [
              "Syncing run <strong><a href=\"https://wandb.ai/kvdmitrieva/cnn-project/runs/3tnwuu5b\" target=\"_blank\">splendid-elevator-11</a></strong> to <a href=\"https://wandb.ai/kvdmitrieva/cnn-project\" target=\"_blank\">Weights & Biases</a> (<a href=\"https://wandb.me/run\" target=\"_blank\">docs</a>)<br/>"
            ]
          },
          "metadata": {}
        },
        {
          "output_type": "execute_result",
          "data": {
            "text/html": [
              "<button onClick=\"this.nextSibling.style.display='block';this.style.display='none';\">Display W&B run</button><iframe src=\"https://wandb.ai/kvdmitrieva/cnn-project/runs/3tnwuu5b?jupyter=true\" style=\"border:none;width:100%;height:420px;display:none;\"></iframe>"
            ],
            "text/plain": [
              "<wandb.sdk.wandb_run.Run at 0x7f14526d0110>"
            ]
          },
          "metadata": {},
          "execution_count": 35
        }
      ],
      "source": [
        "import wandb\n",
        "\n",
        "\n",
        "wandb.init(project='cnn-project')"
      ]
    },
    {
      "cell_type": "code",
      "execution_count": null,
      "metadata": {
        "id": "NsGjs8tesGid"
      },
      "outputs": [],
      "source": [
        "def train_with_log(model, optimizer, n_epochs, train_loader, val_loader, scheduler=None):\n",
        "\n",
        "    for epoch in range(n_epochs):\n",
        "        criterion = nn.CrossEntropyLoss()\n",
        "        first = True\n",
        "        model.train()\n",
        "        for data, target in train_loader:\n",
        "            if not first:\n",
        "                wandb.log({'train_loss': loss.item() * data.shape[0], \n",
        "                           'train_accuracy': acc.item() / data.shape[0]})\n",
        "            else:\n",
        "              first = False\n",
        "\n",
        "            data = data.to(device)\n",
        "            target = target.to(device)\n",
        "            \n",
        "            optimizer.zero_grad()\n",
        "            logits = model(data)\n",
        "\n",
        "            loss = criterion(logits, target)\n",
        "            loss.backward()\n",
        "            optimizer.step()\n",
        "\n",
        "            acc = (logits.argmax(dim=1) == target).sum()\n",
        "            \n",
        "\n",
        "        val_loss, val_acc = test(model, val_loader)\n",
        "\n",
        "        wandb.log({'train_loss': loss.item() * data.shape[0],\n",
        "                   'train_accuracy': acc.item() / data.shape[0],\n",
        "                   'val_loss': val_loss,\n",
        "                   'val_accuracy': val_acc})\n",
        "\n",
        "        print(f\"Epoch {epoch}\")\n",
        "        print(f\" val loss: {val_loss}, val acc: {val_acc}\\n\")\n",
        "        \n",
        "        if scheduler is not None:\n",
        "            scheduler.step()"
      ]
    },
    {
      "cell_type": "code",
      "source": [
        "transform = transforms.Compose(\n",
        "        [transforms.ToTensor(),\n",
        "         transforms.Normalize((0.5, 0.5, 0.5), (0.5, 0.5, 0.5))]\n",
        ")\n",
        "\n",
        "train_loader, val_loader, test_loader = get_cifar10_data(batch_size=64, \n",
        "                                                         transform_train=transform)"
      ],
      "metadata": {
        "colab": {
          "base_uri": "https://localhost:8080/"
        },
        "id": "xt0kvzhLCW1y",
        "outputId": "5982d7f5-2d42-450e-e0d8-ce5586fb7fca"
      },
      "execution_count": null,
      "outputs": [
        {
          "output_type": "stream",
          "name": "stdout",
          "text": [
            "Files already downloaded and verified\n",
            "Files already downloaded and verified\n"
          ]
        }
      ]
    },
    {
      "cell_type": "code",
      "execution_count": null,
      "metadata": {
        "id": "IQpEZN4oGb0N",
        "colab": {
          "base_uri": "https://localhost:8080/"
        },
        "outputId": "1eaa9266-8511-4fd7-a2be-fb5ae71a6eb9"
      },
      "outputs": [
        {
          "output_type": "stream",
          "name": "stdout",
          "text": [
            "Epoch 0\n",
            " val loss: 79.98092727255315, val acc: 0.5496010638297872\n",
            "\n",
            "Epoch 1\n",
            " val loss: 72.65145661374356, val acc: 0.608843085106383\n",
            "\n",
            "Epoch 2\n",
            " val loss: 69.89266678627502, val acc: 0.6265292553191489\n",
            "\n",
            "Epoch 3\n",
            " val loss: 64.9025123028045, val acc: 0.6519725177304966\n",
            "\n",
            "Epoch 4\n",
            " val loss: 67.8921953891186, val acc: 0.6310283687943263\n",
            "\n",
            "Epoch 5\n",
            " val loss: 65.3949342768243, val acc: 0.6422207446808511\n",
            "\n",
            "Epoch 6\n",
            " val loss: 59.98304380457452, val acc: 0.674002659574468\n",
            "\n",
            "Epoch 7\n",
            " val loss: 60.070538930690034, val acc: 0.6794991134751774\n",
            "\n",
            "Epoch 8\n",
            " val loss: 61.4352227738563, val acc: 0.6728945035460993\n",
            "\n",
            "Epoch 9\n",
            " val loss: 57.336844391518454, val acc: 0.6926196808510638\n",
            "\n",
            "Epoch 10\n",
            " val loss: 57.793238124441594, val acc: 0.6888741134751774\n",
            "\n",
            "Epoch 11\n",
            " val loss: 59.409146162804134, val acc: 0.6821808510638298\n",
            "\n",
            "Epoch 12\n",
            " val loss: 56.35527218351973, val acc: 0.6953457446808511\n",
            "\n",
            "Epoch 13\n",
            " val loss: 58.71529224679825, val acc: 0.686968085106383\n",
            "\n",
            "Epoch 14\n",
            " val loss: 57.19097531501283, val acc: 0.6966533687943263\n",
            "\n",
            "Epoch 15\n",
            " val loss: 55.80326783809256, val acc: 0.6983377659574468\n",
            "\n",
            "Epoch 16\n",
            " val loss: 61.2589616308821, val acc: 0.6737145390070923\n",
            "\n",
            "Epoch 17\n",
            " val loss: 55.215326848943185, val acc: 0.7091090425531915\n",
            "\n",
            "Epoch 18\n",
            " val loss: 58.12925974054539, val acc: 0.6957890070921987\n",
            "\n",
            "Epoch 19\n",
            " val loss: 55.73713950299202, val acc: 0.7061613475177306\n",
            "\n"
          ]
        }
      ],
      "source": [
        "net = BasicBlockNet().to(device)\n",
        "optimizer = optim.SGD(net.parameters(), lr=0.1, momentum=0.9)\n",
        "train_with_log(net, optimizer, 20, train_loader, val_loader)"
      ]
    },
    {
      "cell_type": "markdown",
      "metadata": {
        "id": "OEKEP1FAkfG9"
      },
      "source": [
        "[графики](https://wandb.ai/kvdmitrieva/cnn-project?workspace=user-kvdmitrieva)"
      ]
    }
  ],
  "metadata": {
    "accelerator": "GPU",
    "colab": {
      "collapsed_sections": [
        "KFDilng29YZ_",
        "_ttOJPj-O9Dt",
        "7xFXgl_3_E--"
      ],
      "provenance": []
    },
    "gpuClass": "standard",
    "kernelspec": {
      "display_name": "Python 3 (ipykernel)",
      "language": "python",
      "name": "python3"
    },
    "language_info": {
      "codemirror_mode": {
        "name": "ipython",
        "version": 3
      },
      "file_extension": ".py",
      "mimetype": "text/x-python",
      "name": "python",
      "nbconvert_exporter": "python",
      "pygments_lexer": "ipython3",
      "version": "3.8.10"
    },
    "widgets": {
      "application/vnd.jupyter.widget-state+json": {
        "742c6ec533d54c2ca6142bb20a4e9e63": {
          "model_module": "@jupyter-widgets/controls",
          "model_name": "HBoxModel",
          "model_module_version": "1.5.0",
          "state": {
            "_dom_classes": [],
            "_model_module": "@jupyter-widgets/controls",
            "_model_module_version": "1.5.0",
            "_model_name": "HBoxModel",
            "_view_count": null,
            "_view_module": "@jupyter-widgets/controls",
            "_view_module_version": "1.5.0",
            "_view_name": "HBoxView",
            "box_style": "",
            "children": [
              "IPY_MODEL_62ac36fb54594058a4d8dd355b2874d5",
              "IPY_MODEL_b8b764861c794843953f64b173afde71",
              "IPY_MODEL_7817132d6ad949d7a3ecfa99431a0cbe"
            ],
            "layout": "IPY_MODEL_d11e0158d45c4c93889d9fbfe0a7e195"
          }
        },
        "62ac36fb54594058a4d8dd355b2874d5": {
          "model_module": "@jupyter-widgets/controls",
          "model_name": "HTMLModel",
          "model_module_version": "1.5.0",
          "state": {
            "_dom_classes": [],
            "_model_module": "@jupyter-widgets/controls",
            "_model_module_version": "1.5.0",
            "_model_name": "HTMLModel",
            "_view_count": null,
            "_view_module": "@jupyter-widgets/controls",
            "_view_module_version": "1.5.0",
            "_view_name": "HTMLView",
            "description": "",
            "description_tooltip": null,
            "layout": "IPY_MODEL_03d47e5e481e47028949fa93e953f6b1",
            "placeholder": "​",
            "style": "IPY_MODEL_c0eee9ad67784e0ab6463779d6290cef",
            "value": "100%"
          }
        },
        "b8b764861c794843953f64b173afde71": {
          "model_module": "@jupyter-widgets/controls",
          "model_name": "FloatProgressModel",
          "model_module_version": "1.5.0",
          "state": {
            "_dom_classes": [],
            "_model_module": "@jupyter-widgets/controls",
            "_model_module_version": "1.5.0",
            "_model_name": "FloatProgressModel",
            "_view_count": null,
            "_view_module": "@jupyter-widgets/controls",
            "_view_module_version": "1.5.0",
            "_view_name": "ProgressView",
            "bar_style": "success",
            "description": "",
            "description_tooltip": null,
            "layout": "IPY_MODEL_62f2d10646b64a9a9197f6ee4ba38c4f",
            "max": 170498071,
            "min": 0,
            "orientation": "horizontal",
            "style": "IPY_MODEL_71191c9022ae44c2a72b0bd3072a00d1",
            "value": 170498071
          }
        },
        "7817132d6ad949d7a3ecfa99431a0cbe": {
          "model_module": "@jupyter-widgets/controls",
          "model_name": "HTMLModel",
          "model_module_version": "1.5.0",
          "state": {
            "_dom_classes": [],
            "_model_module": "@jupyter-widgets/controls",
            "_model_module_version": "1.5.0",
            "_model_name": "HTMLModel",
            "_view_count": null,
            "_view_module": "@jupyter-widgets/controls",
            "_view_module_version": "1.5.0",
            "_view_name": "HTMLView",
            "description": "",
            "description_tooltip": null,
            "layout": "IPY_MODEL_b718ff19dbb1401cab51da5df4f0dcd3",
            "placeholder": "​",
            "style": "IPY_MODEL_5d5f7f1dc84a4c76918532c9fcbc68b5",
            "value": " 170498071/170498071 [00:14&lt;00:00, 13646279.67it/s]"
          }
        },
        "d11e0158d45c4c93889d9fbfe0a7e195": {
          "model_module": "@jupyter-widgets/base",
          "model_name": "LayoutModel",
          "model_module_version": "1.2.0",
          "state": {
            "_model_module": "@jupyter-widgets/base",
            "_model_module_version": "1.2.0",
            "_model_name": "LayoutModel",
            "_view_count": null,
            "_view_module": "@jupyter-widgets/base",
            "_view_module_version": "1.2.0",
            "_view_name": "LayoutView",
            "align_content": null,
            "align_items": null,
            "align_self": null,
            "border": null,
            "bottom": null,
            "display": null,
            "flex": null,
            "flex_flow": null,
            "grid_area": null,
            "grid_auto_columns": null,
            "grid_auto_flow": null,
            "grid_auto_rows": null,
            "grid_column": null,
            "grid_gap": null,
            "grid_row": null,
            "grid_template_areas": null,
            "grid_template_columns": null,
            "grid_template_rows": null,
            "height": null,
            "justify_content": null,
            "justify_items": null,
            "left": null,
            "margin": null,
            "max_height": null,
            "max_width": null,
            "min_height": null,
            "min_width": null,
            "object_fit": null,
            "object_position": null,
            "order": null,
            "overflow": null,
            "overflow_x": null,
            "overflow_y": null,
            "padding": null,
            "right": null,
            "top": null,
            "visibility": null,
            "width": null
          }
        },
        "03d47e5e481e47028949fa93e953f6b1": {
          "model_module": "@jupyter-widgets/base",
          "model_name": "LayoutModel",
          "model_module_version": "1.2.0",
          "state": {
            "_model_module": "@jupyter-widgets/base",
            "_model_module_version": "1.2.0",
            "_model_name": "LayoutModel",
            "_view_count": null,
            "_view_module": "@jupyter-widgets/base",
            "_view_module_version": "1.2.0",
            "_view_name": "LayoutView",
            "align_content": null,
            "align_items": null,
            "align_self": null,
            "border": null,
            "bottom": null,
            "display": null,
            "flex": null,
            "flex_flow": null,
            "grid_area": null,
            "grid_auto_columns": null,
            "grid_auto_flow": null,
            "grid_auto_rows": null,
            "grid_column": null,
            "grid_gap": null,
            "grid_row": null,
            "grid_template_areas": null,
            "grid_template_columns": null,
            "grid_template_rows": null,
            "height": null,
            "justify_content": null,
            "justify_items": null,
            "left": null,
            "margin": null,
            "max_height": null,
            "max_width": null,
            "min_height": null,
            "min_width": null,
            "object_fit": null,
            "object_position": null,
            "order": null,
            "overflow": null,
            "overflow_x": null,
            "overflow_y": null,
            "padding": null,
            "right": null,
            "top": null,
            "visibility": null,
            "width": null
          }
        },
        "c0eee9ad67784e0ab6463779d6290cef": {
          "model_module": "@jupyter-widgets/controls",
          "model_name": "DescriptionStyleModel",
          "model_module_version": "1.5.0",
          "state": {
            "_model_module": "@jupyter-widgets/controls",
            "_model_module_version": "1.5.0",
            "_model_name": "DescriptionStyleModel",
            "_view_count": null,
            "_view_module": "@jupyter-widgets/base",
            "_view_module_version": "1.2.0",
            "_view_name": "StyleView",
            "description_width": ""
          }
        },
        "62f2d10646b64a9a9197f6ee4ba38c4f": {
          "model_module": "@jupyter-widgets/base",
          "model_name": "LayoutModel",
          "model_module_version": "1.2.0",
          "state": {
            "_model_module": "@jupyter-widgets/base",
            "_model_module_version": "1.2.0",
            "_model_name": "LayoutModel",
            "_view_count": null,
            "_view_module": "@jupyter-widgets/base",
            "_view_module_version": "1.2.0",
            "_view_name": "LayoutView",
            "align_content": null,
            "align_items": null,
            "align_self": null,
            "border": null,
            "bottom": null,
            "display": null,
            "flex": null,
            "flex_flow": null,
            "grid_area": null,
            "grid_auto_columns": null,
            "grid_auto_flow": null,
            "grid_auto_rows": null,
            "grid_column": null,
            "grid_gap": null,
            "grid_row": null,
            "grid_template_areas": null,
            "grid_template_columns": null,
            "grid_template_rows": null,
            "height": null,
            "justify_content": null,
            "justify_items": null,
            "left": null,
            "margin": null,
            "max_height": null,
            "max_width": null,
            "min_height": null,
            "min_width": null,
            "object_fit": null,
            "object_position": null,
            "order": null,
            "overflow": null,
            "overflow_x": null,
            "overflow_y": null,
            "padding": null,
            "right": null,
            "top": null,
            "visibility": null,
            "width": null
          }
        },
        "71191c9022ae44c2a72b0bd3072a00d1": {
          "model_module": "@jupyter-widgets/controls",
          "model_name": "ProgressStyleModel",
          "model_module_version": "1.5.0",
          "state": {
            "_model_module": "@jupyter-widgets/controls",
            "_model_module_version": "1.5.0",
            "_model_name": "ProgressStyleModel",
            "_view_count": null,
            "_view_module": "@jupyter-widgets/base",
            "_view_module_version": "1.2.0",
            "_view_name": "StyleView",
            "bar_color": null,
            "description_width": ""
          }
        },
        "b718ff19dbb1401cab51da5df4f0dcd3": {
          "model_module": "@jupyter-widgets/base",
          "model_name": "LayoutModel",
          "model_module_version": "1.2.0",
          "state": {
            "_model_module": "@jupyter-widgets/base",
            "_model_module_version": "1.2.0",
            "_model_name": "LayoutModel",
            "_view_count": null,
            "_view_module": "@jupyter-widgets/base",
            "_view_module_version": "1.2.0",
            "_view_name": "LayoutView",
            "align_content": null,
            "align_items": null,
            "align_self": null,
            "border": null,
            "bottom": null,
            "display": null,
            "flex": null,
            "flex_flow": null,
            "grid_area": null,
            "grid_auto_columns": null,
            "grid_auto_flow": null,
            "grid_auto_rows": null,
            "grid_column": null,
            "grid_gap": null,
            "grid_row": null,
            "grid_template_areas": null,
            "grid_template_columns": null,
            "grid_template_rows": null,
            "height": null,
            "justify_content": null,
            "justify_items": null,
            "left": null,
            "margin": null,
            "max_height": null,
            "max_width": null,
            "min_height": null,
            "min_width": null,
            "object_fit": null,
            "object_position": null,
            "order": null,
            "overflow": null,
            "overflow_x": null,
            "overflow_y": null,
            "padding": null,
            "right": null,
            "top": null,
            "visibility": null,
            "width": null
          }
        },
        "5d5f7f1dc84a4c76918532c9fcbc68b5": {
          "model_module": "@jupyter-widgets/controls",
          "model_name": "DescriptionStyleModel",
          "model_module_version": "1.5.0",
          "state": {
            "_model_module": "@jupyter-widgets/controls",
            "_model_module_version": "1.5.0",
            "_model_name": "DescriptionStyleModel",
            "_view_count": null,
            "_view_module": "@jupyter-widgets/base",
            "_view_module_version": "1.2.0",
            "_view_name": "StyleView",
            "description_width": ""
          }
        }
      }
    }
  },
  "nbformat": 4,
  "nbformat_minor": 0
}